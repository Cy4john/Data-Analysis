{
  "nbformat": 4,
  "nbformat_minor": 0,
  "metadata": {
    "colab": {
      "provenance": [],
      "authorship_tag": "ABX9TyNOMyLxFhEvRwklkO60+9CL",
      "include_colab_link": true
    },
    "kernelspec": {
      "name": "python3",
      "display_name": "Python 3"
    },
    "language_info": {
      "name": "python"
    }
  },
  "cells": [
    {
      "cell_type": "markdown",
      "metadata": {
        "id": "view-in-github",
        "colab_type": "text"
      },
      "source": [
        "<a href=\"https://colab.research.google.com/github/Cy4john/Data-Analysis/blob/master/Untitled3.ipynb\" target=\"_parent\"><img src=\"https://colab.research.google.com/assets/colab-badge.svg\" alt=\"Open In Colab\"/></a>"
      ]
    },
    {
      "cell_type": "code",
      "execution_count": null,
      "metadata": {
        "id": "PAf4OPrXPJZU"
      },
      "outputs": [],
      "source": [
        "# Import libraries for data manipulation\n",
        "import numpy as np\n",
        "import pandas as pd\n",
        "\n",
        "# Import libraries for data visualization\n",
        "import matplotlib.pyplot as plt\n",
        "import seaborn as sns\n",
        "\n",
        "# to restrict the float value to 3 decimal places\n",
        "pd.set_option('display.float', lambda x: '%.3f' % x)"
      ]
    },
    {
      "cell_type": "code",
      "source": [
        "from google.colab import drive\n",
        "drive.mount('/content/drive')"
      ],
      "metadata": {
        "colab": {
          "base_uri": "https://localhost:8080/"
        },
        "id": "VxGzpL4EbZ74",
        "outputId": "61745da9-1b73-4c00-da6e-850f41f19e40"
      },
      "execution_count": null,
      "outputs": [
        {
          "output_type": "stream",
          "name": "stdout",
          "text": [
            "Mounted at /content/drive\n"
          ]
        }
      ]
    },
    {
      "cell_type": "code",
      "source": [
        "# Read the data\n",
        "df = pd.read_csv('/content/drive/MyDrive/Colab Notebooks/Melbourne_Housing.csv')\n",
        "# Returns the first 5 rows\n",
        "df.head()"
      ],
      "metadata": {
        "colab": {
          "base_uri": "https://localhost:8080/",
          "height": 206
        },
        "id": "KdTkWf-fb4-F",
        "outputId": "75682543-800e-46ff-8b0e-a5a16bb60b27"
      },
      "execution_count": null,
      "outputs": [
        {
          "output_type": "execute_result",
          "data": {
            "text/plain": [
              "         Suburb  Rooms Type        SellerG        Date  Distance  Postcode  \\\n",
              "0  Airport West      3    t         Nelson  03-09-2016    13.500  3042.000   \n",
              "1   Albert Park      2    h  hockingstuart  03-09-2016     3.300  3206.000   \n",
              "2   Albert Park      2    h        Thomson  03-09-2016     3.300  3206.000   \n",
              "3    Alphington      4    h          Brace  03-09-2016     6.400  3078.000   \n",
              "4    Alphington      3    h         Jellis  03-09-2016     6.400  3078.000   \n",
              "\n",
              "   Bedroom  Bathroom   Car  Landsize BuildingArea  YearBuilt  \\\n",
              "0    3.000     2.000 1.000   303.000          225   2016.000   \n",
              "1    2.000     1.000 0.000   120.000           82   1900.000   \n",
              "2    2.000     1.000 0.000   159.000          inf        NaN   \n",
              "3    3.000     2.000 4.000   853.000          263   1930.000   \n",
              "4    3.000     2.000 2.000   208.000          inf   2013.000   \n",
              "\n",
              "              Regionname  Propertycount    Price  \n",
              "0   Western Metropolitan           3464   840000  \n",
              "1  Southern Metropolitan           3280  1275000  \n",
              "2  Southern Metropolitan           3280  1455000  \n",
              "3  Northern Metropolitan           2211  2000000  \n",
              "4  Northern Metropolitan           2211  1110000  "
            ],
            "text/html": [
              "\n",
              "  <div id=\"df-2ffbb803-7040-4e01-8f86-4cb78100ac23\">\n",
              "    <div class=\"colab-df-container\">\n",
              "      <div>\n",
              "<style scoped>\n",
              "    .dataframe tbody tr th:only-of-type {\n",
              "        vertical-align: middle;\n",
              "    }\n",
              "\n",
              "    .dataframe tbody tr th {\n",
              "        vertical-align: top;\n",
              "    }\n",
              "\n",
              "    .dataframe thead th {\n",
              "        text-align: right;\n",
              "    }\n",
              "</style>\n",
              "<table border=\"1\" class=\"dataframe\">\n",
              "  <thead>\n",
              "    <tr style=\"text-align: right;\">\n",
              "      <th></th>\n",
              "      <th>Suburb</th>\n",
              "      <th>Rooms</th>\n",
              "      <th>Type</th>\n",
              "      <th>SellerG</th>\n",
              "      <th>Date</th>\n",
              "      <th>Distance</th>\n",
              "      <th>Postcode</th>\n",
              "      <th>Bedroom</th>\n",
              "      <th>Bathroom</th>\n",
              "      <th>Car</th>\n",
              "      <th>Landsize</th>\n",
              "      <th>BuildingArea</th>\n",
              "      <th>YearBuilt</th>\n",
              "      <th>Regionname</th>\n",
              "      <th>Propertycount</th>\n",
              "      <th>Price</th>\n",
              "    </tr>\n",
              "  </thead>\n",
              "  <tbody>\n",
              "    <tr>\n",
              "      <th>0</th>\n",
              "      <td>Airport West</td>\n",
              "      <td>3</td>\n",
              "      <td>t</td>\n",
              "      <td>Nelson</td>\n",
              "      <td>03-09-2016</td>\n",
              "      <td>13.500</td>\n",
              "      <td>3042.000</td>\n",
              "      <td>3.000</td>\n",
              "      <td>2.000</td>\n",
              "      <td>1.000</td>\n",
              "      <td>303.000</td>\n",
              "      <td>225</td>\n",
              "      <td>2016.000</td>\n",
              "      <td>Western Metropolitan</td>\n",
              "      <td>3464</td>\n",
              "      <td>840000</td>\n",
              "    </tr>\n",
              "    <tr>\n",
              "      <th>1</th>\n",
              "      <td>Albert Park</td>\n",
              "      <td>2</td>\n",
              "      <td>h</td>\n",
              "      <td>hockingstuart</td>\n",
              "      <td>03-09-2016</td>\n",
              "      <td>3.300</td>\n",
              "      <td>3206.000</td>\n",
              "      <td>2.000</td>\n",
              "      <td>1.000</td>\n",
              "      <td>0.000</td>\n",
              "      <td>120.000</td>\n",
              "      <td>82</td>\n",
              "      <td>1900.000</td>\n",
              "      <td>Southern Metropolitan</td>\n",
              "      <td>3280</td>\n",
              "      <td>1275000</td>\n",
              "    </tr>\n",
              "    <tr>\n",
              "      <th>2</th>\n",
              "      <td>Albert Park</td>\n",
              "      <td>2</td>\n",
              "      <td>h</td>\n",
              "      <td>Thomson</td>\n",
              "      <td>03-09-2016</td>\n",
              "      <td>3.300</td>\n",
              "      <td>3206.000</td>\n",
              "      <td>2.000</td>\n",
              "      <td>1.000</td>\n",
              "      <td>0.000</td>\n",
              "      <td>159.000</td>\n",
              "      <td>inf</td>\n",
              "      <td>NaN</td>\n",
              "      <td>Southern Metropolitan</td>\n",
              "      <td>3280</td>\n",
              "      <td>1455000</td>\n",
              "    </tr>\n",
              "    <tr>\n",
              "      <th>3</th>\n",
              "      <td>Alphington</td>\n",
              "      <td>4</td>\n",
              "      <td>h</td>\n",
              "      <td>Brace</td>\n",
              "      <td>03-09-2016</td>\n",
              "      <td>6.400</td>\n",
              "      <td>3078.000</td>\n",
              "      <td>3.000</td>\n",
              "      <td>2.000</td>\n",
              "      <td>4.000</td>\n",
              "      <td>853.000</td>\n",
              "      <td>263</td>\n",
              "      <td>1930.000</td>\n",
              "      <td>Northern Metropolitan</td>\n",
              "      <td>2211</td>\n",
              "      <td>2000000</td>\n",
              "    </tr>\n",
              "    <tr>\n",
              "      <th>4</th>\n",
              "      <td>Alphington</td>\n",
              "      <td>3</td>\n",
              "      <td>h</td>\n",
              "      <td>Jellis</td>\n",
              "      <td>03-09-2016</td>\n",
              "      <td>6.400</td>\n",
              "      <td>3078.000</td>\n",
              "      <td>3.000</td>\n",
              "      <td>2.000</td>\n",
              "      <td>2.000</td>\n",
              "      <td>208.000</td>\n",
              "      <td>inf</td>\n",
              "      <td>2013.000</td>\n",
              "      <td>Northern Metropolitan</td>\n",
              "      <td>2211</td>\n",
              "      <td>1110000</td>\n",
              "    </tr>\n",
              "  </tbody>\n",
              "</table>\n",
              "</div>\n",
              "      <button class=\"colab-df-convert\" onclick=\"convertToInteractive('df-2ffbb803-7040-4e01-8f86-4cb78100ac23')\"\n",
              "              title=\"Convert this dataframe to an interactive table.\"\n",
              "              style=\"display:none;\">\n",
              "        \n",
              "  <svg xmlns=\"http://www.w3.org/2000/svg\" height=\"24px\"viewBox=\"0 0 24 24\"\n",
              "       width=\"24px\">\n",
              "    <path d=\"M0 0h24v24H0V0z\" fill=\"none\"/>\n",
              "    <path d=\"M18.56 5.44l.94 2.06.94-2.06 2.06-.94-2.06-.94-.94-2.06-.94 2.06-2.06.94zm-11 1L8.5 8.5l.94-2.06 2.06-.94-2.06-.94L8.5 2.5l-.94 2.06-2.06.94zm10 10l.94 2.06.94-2.06 2.06-.94-2.06-.94-.94-2.06-.94 2.06-2.06.94z\"/><path d=\"M17.41 7.96l-1.37-1.37c-.4-.4-.92-.59-1.43-.59-.52 0-1.04.2-1.43.59L10.3 9.45l-7.72 7.72c-.78.78-.78 2.05 0 2.83L4 21.41c.39.39.9.59 1.41.59.51 0 1.02-.2 1.41-.59l7.78-7.78 2.81-2.81c.8-.78.8-2.07 0-2.86zM5.41 20L4 18.59l7.72-7.72 1.47 1.35L5.41 20z\"/>\n",
              "  </svg>\n",
              "      </button>\n",
              "      \n",
              "  <style>\n",
              "    .colab-df-container {\n",
              "      display:flex;\n",
              "      flex-wrap:wrap;\n",
              "      gap: 12px;\n",
              "    }\n",
              "\n",
              "    .colab-df-convert {\n",
              "      background-color: #E8F0FE;\n",
              "      border: none;\n",
              "      border-radius: 50%;\n",
              "      cursor: pointer;\n",
              "      display: none;\n",
              "      fill: #1967D2;\n",
              "      height: 32px;\n",
              "      padding: 0 0 0 0;\n",
              "      width: 32px;\n",
              "    }\n",
              "\n",
              "    .colab-df-convert:hover {\n",
              "      background-color: #E2EBFA;\n",
              "      box-shadow: 0px 1px 2px rgba(60, 64, 67, 0.3), 0px 1px 3px 1px rgba(60, 64, 67, 0.15);\n",
              "      fill: #174EA6;\n",
              "    }\n",
              "\n",
              "    [theme=dark] .colab-df-convert {\n",
              "      background-color: #3B4455;\n",
              "      fill: #D2E3FC;\n",
              "    }\n",
              "\n",
              "    [theme=dark] .colab-df-convert:hover {\n",
              "      background-color: #434B5C;\n",
              "      box-shadow: 0px 1px 3px 1px rgba(0, 0, 0, 0.15);\n",
              "      filter: drop-shadow(0px 1px 2px rgba(0, 0, 0, 0.3));\n",
              "      fill: #FFFFFF;\n",
              "    }\n",
              "  </style>\n",
              "\n",
              "      <script>\n",
              "        const buttonEl =\n",
              "          document.querySelector('#df-2ffbb803-7040-4e01-8f86-4cb78100ac23 button.colab-df-convert');\n",
              "        buttonEl.style.display =\n",
              "          google.colab.kernel.accessAllowed ? 'block' : 'none';\n",
              "\n",
              "        async function convertToInteractive(key) {\n",
              "          const element = document.querySelector('#df-2ffbb803-7040-4e01-8f86-4cb78100ac23');\n",
              "          const dataTable =\n",
              "            await google.colab.kernel.invokeFunction('convertToInteractive',\n",
              "                                                     [key], {});\n",
              "          if (!dataTable) return;\n",
              "\n",
              "          const docLinkHtml = 'Like what you see? Visit the ' +\n",
              "            '<a target=\"_blank\" href=https://colab.research.google.com/notebooks/data_table.ipynb>data table notebook</a>'\n",
              "            + ' to learn more about interactive tables.';\n",
              "          element.innerHTML = '';\n",
              "          dataTable['output_type'] = 'display_data';\n",
              "          await google.colab.output.renderOutput(dataTable, element);\n",
              "          const docLink = document.createElement('div');\n",
              "          docLink.innerHTML = docLinkHtml;\n",
              "          element.appendChild(docLink);\n",
              "        }\n",
              "      </script>\n",
              "    </div>\n",
              "  </div>\n",
              "  "
            ]
          },
          "metadata": {},
          "execution_count": 3
        }
      ]
    },
    {
      "cell_type": "code",
      "source": [
        "df.tail()"
      ],
      "metadata": {
        "colab": {
          "base_uri": "https://localhost:8080/",
          "height": 250
        },
        "id": "brn7jnpsejeU",
        "outputId": "0267e957-d617-4ca7-890f-141a7ef9d4d5"
      },
      "execution_count": null,
      "outputs": [
        {
          "output_type": "execute_result",
          "data": {
            "text/plain": [
              "                 Suburb  Rooms Type    SellerG        Date  Distance  \\\n",
              "27109        Noble Park      3    h        C21  30-09-2017    22.700   \n",
              "27110         Reservoir      3    u         RW  30-09-2017    12.000   \n",
              "27111     Roxburgh Park      4    h      Raine  30-09-2017    20.600   \n",
              "27112  Springvale South      3    h  Harcourts  30-09-2017    22.200   \n",
              "27113       Westmeadows      4    h      Barry  30-09-2017    16.500   \n",
              "\n",
              "       Postcode  Bedroom  Bathroom   Car  Landsize BuildingArea  YearBuilt  \\\n",
              "27109  3174.000    3.000     1.000 6.000   569.000          130   1959.000   \n",
              "27110  3073.000    3.000     1.000 1.000       NaN          105   1990.000   \n",
              "27111  3064.000    4.000     2.000 2.000       NaN          225   1995.000   \n",
              "27112  3172.000    3.000     2.000 1.000   544.000          NaN        NaN   \n",
              "27113  3049.000    4.000     2.000 6.000   813.000          140   1960.000   \n",
              "\n",
              "                       Regionname  Propertycount   Price  \n",
              "27109  South-Eastern Metropolitan          11806  627500  \n",
              "27110       Northern Metropolitan          21650  475000  \n",
              "27111       Northern Metropolitan           5833  591000  \n",
              "27112  South-Eastern Metropolitan           4054  780500  \n",
              "27113       Northern Metropolitan           2474  791000  "
            ],
            "text/html": [
              "\n",
              "  <div id=\"df-c7a75680-5c77-4679-8acb-e2b7426e9f22\">\n",
              "    <div class=\"colab-df-container\">\n",
              "      <div>\n",
              "<style scoped>\n",
              "    .dataframe tbody tr th:only-of-type {\n",
              "        vertical-align: middle;\n",
              "    }\n",
              "\n",
              "    .dataframe tbody tr th {\n",
              "        vertical-align: top;\n",
              "    }\n",
              "\n",
              "    .dataframe thead th {\n",
              "        text-align: right;\n",
              "    }\n",
              "</style>\n",
              "<table border=\"1\" class=\"dataframe\">\n",
              "  <thead>\n",
              "    <tr style=\"text-align: right;\">\n",
              "      <th></th>\n",
              "      <th>Suburb</th>\n",
              "      <th>Rooms</th>\n",
              "      <th>Type</th>\n",
              "      <th>SellerG</th>\n",
              "      <th>Date</th>\n",
              "      <th>Distance</th>\n",
              "      <th>Postcode</th>\n",
              "      <th>Bedroom</th>\n",
              "      <th>Bathroom</th>\n",
              "      <th>Car</th>\n",
              "      <th>Landsize</th>\n",
              "      <th>BuildingArea</th>\n",
              "      <th>YearBuilt</th>\n",
              "      <th>Regionname</th>\n",
              "      <th>Propertycount</th>\n",
              "      <th>Price</th>\n",
              "    </tr>\n",
              "  </thead>\n",
              "  <tbody>\n",
              "    <tr>\n",
              "      <th>27109</th>\n",
              "      <td>Noble Park</td>\n",
              "      <td>3</td>\n",
              "      <td>h</td>\n",
              "      <td>C21</td>\n",
              "      <td>30-09-2017</td>\n",
              "      <td>22.700</td>\n",
              "      <td>3174.000</td>\n",
              "      <td>3.000</td>\n",
              "      <td>1.000</td>\n",
              "      <td>6.000</td>\n",
              "      <td>569.000</td>\n",
              "      <td>130</td>\n",
              "      <td>1959.000</td>\n",
              "      <td>South-Eastern Metropolitan</td>\n",
              "      <td>11806</td>\n",
              "      <td>627500</td>\n",
              "    </tr>\n",
              "    <tr>\n",
              "      <th>27110</th>\n",
              "      <td>Reservoir</td>\n",
              "      <td>3</td>\n",
              "      <td>u</td>\n",
              "      <td>RW</td>\n",
              "      <td>30-09-2017</td>\n",
              "      <td>12.000</td>\n",
              "      <td>3073.000</td>\n",
              "      <td>3.000</td>\n",
              "      <td>1.000</td>\n",
              "      <td>1.000</td>\n",
              "      <td>NaN</td>\n",
              "      <td>105</td>\n",
              "      <td>1990.000</td>\n",
              "      <td>Northern Metropolitan</td>\n",
              "      <td>21650</td>\n",
              "      <td>475000</td>\n",
              "    </tr>\n",
              "    <tr>\n",
              "      <th>27111</th>\n",
              "      <td>Roxburgh Park</td>\n",
              "      <td>4</td>\n",
              "      <td>h</td>\n",
              "      <td>Raine</td>\n",
              "      <td>30-09-2017</td>\n",
              "      <td>20.600</td>\n",
              "      <td>3064.000</td>\n",
              "      <td>4.000</td>\n",
              "      <td>2.000</td>\n",
              "      <td>2.000</td>\n",
              "      <td>NaN</td>\n",
              "      <td>225</td>\n",
              "      <td>1995.000</td>\n",
              "      <td>Northern Metropolitan</td>\n",
              "      <td>5833</td>\n",
              "      <td>591000</td>\n",
              "    </tr>\n",
              "    <tr>\n",
              "      <th>27112</th>\n",
              "      <td>Springvale South</td>\n",
              "      <td>3</td>\n",
              "      <td>h</td>\n",
              "      <td>Harcourts</td>\n",
              "      <td>30-09-2017</td>\n",
              "      <td>22.200</td>\n",
              "      <td>3172.000</td>\n",
              "      <td>3.000</td>\n",
              "      <td>2.000</td>\n",
              "      <td>1.000</td>\n",
              "      <td>544.000</td>\n",
              "      <td>NaN</td>\n",
              "      <td>NaN</td>\n",
              "      <td>South-Eastern Metropolitan</td>\n",
              "      <td>4054</td>\n",
              "      <td>780500</td>\n",
              "    </tr>\n",
              "    <tr>\n",
              "      <th>27113</th>\n",
              "      <td>Westmeadows</td>\n",
              "      <td>4</td>\n",
              "      <td>h</td>\n",
              "      <td>Barry</td>\n",
              "      <td>30-09-2017</td>\n",
              "      <td>16.500</td>\n",
              "      <td>3049.000</td>\n",
              "      <td>4.000</td>\n",
              "      <td>2.000</td>\n",
              "      <td>6.000</td>\n",
              "      <td>813.000</td>\n",
              "      <td>140</td>\n",
              "      <td>1960.000</td>\n",
              "      <td>Northern Metropolitan</td>\n",
              "      <td>2474</td>\n",
              "      <td>791000</td>\n",
              "    </tr>\n",
              "  </tbody>\n",
              "</table>\n",
              "</div>\n",
              "      <button class=\"colab-df-convert\" onclick=\"convertToInteractive('df-c7a75680-5c77-4679-8acb-e2b7426e9f22')\"\n",
              "              title=\"Convert this dataframe to an interactive table.\"\n",
              "              style=\"display:none;\">\n",
              "        \n",
              "  <svg xmlns=\"http://www.w3.org/2000/svg\" height=\"24px\"viewBox=\"0 0 24 24\"\n",
              "       width=\"24px\">\n",
              "    <path d=\"M0 0h24v24H0V0z\" fill=\"none\"/>\n",
              "    <path d=\"M18.56 5.44l.94 2.06.94-2.06 2.06-.94-2.06-.94-.94-2.06-.94 2.06-2.06.94zm-11 1L8.5 8.5l.94-2.06 2.06-.94-2.06-.94L8.5 2.5l-.94 2.06-2.06.94zm10 10l.94 2.06.94-2.06 2.06-.94-2.06-.94-.94-2.06-.94 2.06-2.06.94z\"/><path d=\"M17.41 7.96l-1.37-1.37c-.4-.4-.92-.59-1.43-.59-.52 0-1.04.2-1.43.59L10.3 9.45l-7.72 7.72c-.78.78-.78 2.05 0 2.83L4 21.41c.39.39.9.59 1.41.59.51 0 1.02-.2 1.41-.59l7.78-7.78 2.81-2.81c.8-.78.8-2.07 0-2.86zM5.41 20L4 18.59l7.72-7.72 1.47 1.35L5.41 20z\"/>\n",
              "  </svg>\n",
              "      </button>\n",
              "      \n",
              "  <style>\n",
              "    .colab-df-container {\n",
              "      display:flex;\n",
              "      flex-wrap:wrap;\n",
              "      gap: 12px;\n",
              "    }\n",
              "\n",
              "    .colab-df-convert {\n",
              "      background-color: #E8F0FE;\n",
              "      border: none;\n",
              "      border-radius: 50%;\n",
              "      cursor: pointer;\n",
              "      display: none;\n",
              "      fill: #1967D2;\n",
              "      height: 32px;\n",
              "      padding: 0 0 0 0;\n",
              "      width: 32px;\n",
              "    }\n",
              "\n",
              "    .colab-df-convert:hover {\n",
              "      background-color: #E2EBFA;\n",
              "      box-shadow: 0px 1px 2px rgba(60, 64, 67, 0.3), 0px 1px 3px 1px rgba(60, 64, 67, 0.15);\n",
              "      fill: #174EA6;\n",
              "    }\n",
              "\n",
              "    [theme=dark] .colab-df-convert {\n",
              "      background-color: #3B4455;\n",
              "      fill: #D2E3FC;\n",
              "    }\n",
              "\n",
              "    [theme=dark] .colab-df-convert:hover {\n",
              "      background-color: #434B5C;\n",
              "      box-shadow: 0px 1px 3px 1px rgba(0, 0, 0, 0.15);\n",
              "      filter: drop-shadow(0px 1px 2px rgba(0, 0, 0, 0.3));\n",
              "      fill: #FFFFFF;\n",
              "    }\n",
              "  </style>\n",
              "\n",
              "      <script>\n",
              "        const buttonEl =\n",
              "          document.querySelector('#df-c7a75680-5c77-4679-8acb-e2b7426e9f22 button.colab-df-convert');\n",
              "        buttonEl.style.display =\n",
              "          google.colab.kernel.accessAllowed ? 'block' : 'none';\n",
              "\n",
              "        async function convertToInteractive(key) {\n",
              "          const element = document.querySelector('#df-c7a75680-5c77-4679-8acb-e2b7426e9f22');\n",
              "          const dataTable =\n",
              "            await google.colab.kernel.invokeFunction('convertToInteractive',\n",
              "                                                     [key], {});\n",
              "          if (!dataTable) return;\n",
              "\n",
              "          const docLinkHtml = 'Like what you see? Visit the ' +\n",
              "            '<a target=\"_blank\" href=https://colab.research.google.com/notebooks/data_table.ipynb>data table notebook</a>'\n",
              "            + ' to learn more about interactive tables.';\n",
              "          element.innerHTML = '';\n",
              "          dataTable['output_type'] = 'display_data';\n",
              "          await google.colab.output.renderOutput(dataTable, element);\n",
              "          const docLink = document.createElement('div');\n",
              "          docLink.innerHTML = docLinkHtml;\n",
              "          element.appendChild(docLink);\n",
              "        }\n",
              "      </script>\n",
              "    </div>\n",
              "  </div>\n",
              "  "
            ]
          },
          "metadata": {},
          "execution_count": 4
        }
      ]
    },
    {
      "cell_type": "code",
      "source": [
        "print(\"There are\", df.shape[0],'rows and', df.shape[1], \"columns.\")"
      ],
      "metadata": {
        "colab": {
          "base_uri": "https://localhost:8080/"
        },
        "id": "1pJEGRwIfyqH",
        "outputId": "17a70f65-a63e-4bc3-8c20-81292730de88"
      },
      "execution_count": null,
      "outputs": [
        {
          "output_type": "stream",
          "name": "stdout",
          "text": [
            "There are 27114 rows and 16 columns.\n"
          ]
        }
      ]
    },
    {
      "cell_type": "code",
      "source": [
        "df.info()"
      ],
      "metadata": {
        "colab": {
          "base_uri": "https://localhost:8080/"
        },
        "id": "fvhmyLwrgUuI",
        "outputId": "8f19b8b2-17ad-4a7b-912b-a511571862e5"
      },
      "execution_count": null,
      "outputs": [
        {
          "output_type": "stream",
          "name": "stdout",
          "text": [
            "<class 'pandas.core.frame.DataFrame'>\n",
            "RangeIndex: 27114 entries, 0 to 27113\n",
            "Data columns (total 16 columns):\n",
            " #   Column         Non-Null Count  Dtype  \n",
            "---  ------         --------------  -----  \n",
            " 0   Suburb         27114 non-null  object \n",
            " 1   Rooms          27114 non-null  int64  \n",
            " 2   Type           27114 non-null  object \n",
            " 3   SellerG        27114 non-null  object \n",
            " 4   Date           27114 non-null  object \n",
            " 5   Distance       27113 non-null  float64\n",
            " 6   Postcode       27113 non-null  float64\n",
            " 7   Bedroom        20678 non-null  float64\n",
            " 8   Bathroom       20672 non-null  float64\n",
            " 9   Car            20297 non-null  float64\n",
            " 10  Landsize       17873 non-null  float64\n",
            " 11  BuildingArea   10543 non-null  object \n",
            " 12  YearBuilt      11985 non-null  float64\n",
            " 13  Regionname     27114 non-null  object \n",
            " 14  Propertycount  27114 non-null  int64  \n",
            " 15  Price          27114 non-null  int64  \n",
            "dtypes: float64(7), int64(3), object(6)\n",
            "memory usage: 3.3+ MB\n"
          ]
        }
      ]
    },
    {
      "cell_type": "code",
      "source": [
        "df['Date'] = pd.to_datetime(df['Date'])"
      ],
      "metadata": {
        "colab": {
          "base_uri": "https://localhost:8080/"
        },
        "id": "Gx28J6s_hmo1",
        "outputId": "3915f118-964b-42f3-f896-60355f27a638"
      },
      "execution_count": null,
      "outputs": [
        {
          "output_type": "stream",
          "name": "stderr",
          "text": [
            "<ipython-input-8-b9c6864122be>:1: UserWarning: Parsing dates in DD/MM/YYYY format when dayfirst=False (the default) was specified. This may lead to inconsistently parsed dates! Specify a format to ensure consistent parsing.\n",
            "  df['Date'] = pd.to_datetime(df['Date'])\n"
          ]
        }
      ]
    },
    {
      "cell_type": "code",
      "source": [
        "df['BuildingArea'].unique()"
      ],
      "metadata": {
        "colab": {
          "base_uri": "https://localhost:8080/"
        },
        "id": "ErqgAfNuh_Pp",
        "outputId": "d981d66d-ac31-4b92-fb6a-400b6cde8142"
      },
      "execution_count": null,
      "outputs": [
        {
          "output_type": "execute_result",
          "data": {
            "text/plain": [
              "array(['225', '82', 'inf', '263', '242', '251', '117', 'missing', '76',\n",
              "       '399', '118', '103', '180', '123', '218', '129', '167', '154',\n",
              "       '275', '121', nan, '125', '255', '75', '156', '240', '268', '108',\n",
              "       '69', '140', '214', '253', '189', '215', '96', '104', '100', '313',\n",
              "       '144', '93', '110', '70', '122', '51', '147', '113', '83', '56',\n",
              "       '137', '85', '64', '175', '3558', '170', '265', '353', '138', '19',\n",
              "       '116', '87', '74', '320', '300', '210', '120', '86', '97', '200',\n",
              "       '106', '14', '161', '128', '185', '146', '133', '115', '143',\n",
              "       '150', '195', '236', '276', '188', '179', '249', '141', '34', '73',\n",
              "       '107', '84', '81', '207', '50', '264', '312', '235', '221', '183',\n",
              "       '132', '160', '186', '78', '105', '145', '62', '220', '315', '181',\n",
              "       '61', '112', '420', '226', '266', '410', '449', '356', '477',\n",
              "       '250', '95', '190', '284', '247', '213', '209', '119', '111',\n",
              "       '130', '348', '166', '44', '176', '98', '159', '79', '71', '60',\n",
              "       '33', '89', '217', '127', '187', '109', '53', '201', '12', '63',\n",
              "       '223', '102', '254', '327', '16', '165', '65', '139', '134', '280',\n",
              "       '67', '272', '38', '153', '66', '152', '135', '374', '163', '124',\n",
              "       '233', '39', '151', '279', '136', '405', '199', '158', '126', '80',\n",
              "       '57', '36', '142', '77', '435', '92', '149', '114', '349', '178',\n",
              "       '594', '274', '40', '68', '164', '204', '94', '257', '323', '314',\n",
              "       '378', '55', '91', '309', '88', '58', '172', '211', '148', '49',\n",
              "       '52', '174', '191', '335', '808', '168', '203', '520', '212',\n",
              "       '222', '171', '228', '101', '267', '90', '196', '157', '99', '256',\n",
              "       '15', '155', '162', '72', '252', '330', '177', '341', '197', '340',\n",
              "       '182', '245', '270', '42', '229', '232', '131', '297', '237',\n",
              "       '194', '173', '46', '360', '205', '45', '365', '321', '37', '304',\n",
              "       '54', '305', '244', '43', '41', '22', '169', '59', '258', '230',\n",
              "       '287', '618', '792', '355', '202', '395', '351', '325', '248',\n",
              "       '224', '426', '286', '308', '198', '260', '291', '277', '281',\n",
              "       '216', '262', '364', '30', '192', '47', '184', '25', '558', '362',\n",
              "       '375', '347', '241', '475', '413', '400', '101.37', '219', '239',\n",
              "       '123.21', '140.7481', '86.5', '30.6', '225.5', '322', '409.54',\n",
              "       '26', '156.6', '227.6', '104.63', '193', '443', '167.13', '148.5',\n",
              "       '270.18', '53.3', '98.5', '157.9351', '328', '94.3', '21', '310',\n",
              "       '95.88', '261', '105.7', '72.9', '45.4', '221.3', '113.2',\n",
              "       '186.75', '540', '127.8', '231', '106.4', '311', '234', '332',\n",
              "       '206', '259', '246', '296', '269', '306', '380', '302', '48',\n",
              "       '278', '35', '208', '467', '283', '458', '196.8', '106.2', '32',\n",
              "       '424', '430', '243', '290', '511', '500', '531', '508', '333',\n",
              "       '72.3', '66.23', '101.51', '292', '112.9', '99.5', '77.5', '293',\n",
              "       '105.23', '352', '391', '121.8', '82.6', '136.49', '502', '680',\n",
              "       '157.9352', '126.8', '100.6', '44.4', '151.54', '20', '397', '495',\n",
              "       '331', '294', '334', '303', '318', '273', '584', '958', '288',\n",
              "       '342', '354', '350', '465', '337', '317', '298', '529', '697',\n",
              "       '289', '602', '6791', '534', '227', '429', '802', '373', '358',\n",
              "       '238', '316', '393', '180.9', '826.8367', '366', '307', '625',\n",
              "       '419', '94.5', '392', '28', '116.65', '11', '134.6', '282',\n",
              "       '183.84', '431', '126.7', '18', '295', '390', '447', '271', '416',\n",
              "       '370', '660', '463', '361', '496', '324', '173.45', '134.3',\n",
              "       '464.3', '76.77', '113.76', '107.4', '255.79', '186.36', '490',\n",
              "       '103.6', '63.7', '106.76', '39.5', '423', '319', '437', '285',\n",
              "       '453', '472', '418', '487', '31', '301', '116.4', '182.85',\n",
              "       '109.5', '129.7', '665', '398', '148.47', '553', '182.9', '184.75',\n",
              "       '193.74', '68.5', '336', '346', '719', '3112', '414', '372', '525',\n",
              "       '367', '1561', '454', '720', '329', '381', '677', '439', '857',\n",
              "       '23', '503', '432', '377', '512', '425', '406', '389', '521',\n",
              "       '6178', '654', '727', '417', '560', '168.01', '306.19', '515.78',\n",
              "       '196.1', '789', '131.27', '167.87', '183.97', '199.5', '29', '446',\n",
              "       '75.45', '165.5', '263.5', '585', '516', '345', '27', '444', '427',\n",
              "       '326', '518', '13', '411', '1022', '339', '461', '376', '513',\n",
              "       '836', '464', '386', '603', '613', '179.3', '142.6', '147.2',\n",
              "       '225.98', '113.81', '401', '737', '530', '82.3', '110.87', '450',\n",
              "       '673', '109.98', '122.25', '105.9', '101.7', '106.9', '93.82',\n",
              "       '132.6', '154.3', '178.74', '88.3', '80.7', '89.25', '181.6',\n",
              "       '104.4', '180.56', '123.5', '1143', '506', '575', '859', '653',\n",
              "       '999', '445', '438', '686', '649', '736', '371.6122', '199.73',\n",
              "       '118.54', '298.21', '169.5', '42.2', '135.5', '266.76', '272.4',\n",
              "       '177.8', '139.4', '700', '766', '538', '528', '650', '368', '544',\n",
              "       '557', '396', '638', '101.76', '363', '634', '195.0964', '470',\n",
              "       '130.52', '547', '111.04', '63.4', '92.5', '115.96', '121.84',\n",
              "       '122.86', '114.2', '266.53', '78.54', '85.35', '1041', '607',\n",
              "       '478', '407', '344', '338', '501', '448', '357', '408', '412',\n",
              "       '466', '739', '614', '421', '385', '68.11', '153.1', '85.2',\n",
              "       '93.84', '124.45', '210.68', '200.71', '81.79', '934', '129.92',\n",
              "       '43.7', '113.6', '66.32', '35.64', '61.6', '388.5', '672'],\n",
              "      dtype=object)"
            ]
          },
          "metadata": {},
          "execution_count": 9
        }
      ]
    },
    {
      "cell_type": "code",
      "source": [
        "df['BuildingArea'].apply(type).value_counts()"
      ],
      "metadata": {
        "colab": {
          "base_uri": "https://localhost:8080/"
        },
        "id": "0CI_zU_QoN5M",
        "outputId": "58d2fb1f-68aa-417b-c6b3-16c5323117c4"
      },
      "execution_count": null,
      "outputs": [
        {
          "output_type": "execute_result",
          "data": {
            "text/plain": [
              "<class 'float'>    16571\n",
              "<class 'str'>      10543\n",
              "Name: BuildingArea, dtype: int64"
            ]
          },
          "metadata": {},
          "execution_count": 10
        }
      ]
    },
    {
      "cell_type": "code",
      "source": [
        "df['BuildingArea'] = df['BuildingArea'].replace(['missing','inf'],np.nan)"
      ],
      "metadata": {
        "id": "cKc9eGOcobsy"
      },
      "execution_count": null,
      "outputs": []
    },
    {
      "cell_type": "code",
      "source": [
        "df.info()"
      ],
      "metadata": {
        "colab": {
          "base_uri": "https://localhost:8080/"
        },
        "id": "MJA0O99urb01",
        "outputId": "0ec8d66f-bdf5-43ca-f5a8-2c4e4dc59ad7"
      },
      "execution_count": null,
      "outputs": [
        {
          "output_type": "stream",
          "name": "stdout",
          "text": [
            "<class 'pandas.core.frame.DataFrame'>\n",
            "RangeIndex: 27114 entries, 0 to 27113\n",
            "Data columns (total 16 columns):\n",
            " #   Column         Non-Null Count  Dtype         \n",
            "---  ------         --------------  -----         \n",
            " 0   Suburb         27114 non-null  object        \n",
            " 1   Rooms          27114 non-null  int64         \n",
            " 2   Type           27114 non-null  object        \n",
            " 3   SellerG        27114 non-null  object        \n",
            " 4   Date           27114 non-null  datetime64[ns]\n",
            " 5   Distance       27113 non-null  float64       \n",
            " 6   Postcode       27113 non-null  float64       \n",
            " 7   Bedroom        20678 non-null  float64       \n",
            " 8   Bathroom       20672 non-null  float64       \n",
            " 9   Car            20297 non-null  float64       \n",
            " 10  Landsize       17873 non-null  float64       \n",
            " 11  BuildingArea   10529 non-null  object        \n",
            " 12  YearBuilt      11985 non-null  float64       \n",
            " 13  Regionname     27114 non-null  object        \n",
            " 14  Propertycount  27114 non-null  int64         \n",
            " 15  Price          27114 non-null  int64         \n",
            "dtypes: datetime64[ns](1), float64(7), int64(3), object(5)\n",
            "memory usage: 3.3+ MB\n"
          ]
        }
      ]
    },
    {
      "cell_type": "code",
      "source": [
        "df_new=pd.read_csv('/content/drive/MyDrive/Colab Notebooks/Melbourne_Housing.csv',na_values=['missing', 'inf'])"
      ],
      "metadata": {
        "id": "RkMEDvyCspAz"
      },
      "execution_count": null,
      "outputs": []
    },
    {
      "cell_type": "code",
      "source": [
        "df_new['BuildingArea'].dtype"
      ],
      "metadata": {
        "colab": {
          "base_uri": "https://localhost:8080/"
        },
        "id": "Im5kfuoXvK5x",
        "outputId": "c9910b1d-6d90-44a2-f08a-314c11bbbc5c"
      },
      "execution_count": null,
      "outputs": [
        {
          "output_type": "execute_result",
          "data": {
            "text/plain": [
              "dtype('float64')"
            ]
          },
          "metadata": {},
          "execution_count": 13
        }
      ]
    },
    {
      "cell_type": "code",
      "source": [
        "df.duplicated().sum()"
      ],
      "metadata": {
        "colab": {
          "base_uri": "https://localhost:8080/"
        },
        "id": "eYu3hxERyTGb",
        "outputId": "41db9ac5-adb4-4a5b-e945-2ba98dd0e208"
      },
      "execution_count": null,
      "outputs": [
        {
          "output_type": "execute_result",
          "data": {
            "text/plain": [
              "11"
            ]
          },
          "metadata": {},
          "execution_count": 14
        }
      ]
    },
    {
      "cell_type": "code",
      "source": [
        "df.drop_duplicates(inplace=True)"
      ],
      "metadata": {
        "id": "ooKhlUoNyeP7"
      },
      "execution_count": null,
      "outputs": []
    },
    {
      "cell_type": "code",
      "source": [
        "df.describe().T"
      ],
      "metadata": {
        "colab": {
          "base_uri": "https://localhost:8080/",
          "height": 363
        },
        "id": "s9njz--kpyk4",
        "outputId": "3544ea2e-d307-4ea5-f51a-763c94bbad27"
      },
      "execution_count": null,
      "outputs": [
        {
          "output_type": "execute_result",
          "data": {
            "text/plain": [
              "                  count        mean        std       min        25%  \\\n",
              "Rooms         27103.000       2.992      0.955     1.000      2.000   \n",
              "Distance      27102.000      11.280      6.784     0.000      6.400   \n",
              "Postcode      27102.000    3113.787    111.129  3000.000   3046.000   \n",
              "Bedroom       20678.000       3.046      0.955     0.000      2.000   \n",
              "Bathroom      20672.000       1.592      0.701     0.000      1.000   \n",
              "Car           20297.000       1.716      0.994     0.000      1.000   \n",
              "Landsize      17873.000     560.537   1411.309    50.000    220.000   \n",
              "YearBuilt     11985.000    1966.618     36.042  1850.000   1950.000   \n",
              "Propertycount 27103.000    7564.741   4494.028    83.000   4294.000   \n",
              "Price         27103.000 1050664.131 641660.161 85000.000 635000.000   \n",
              "\n",
              "                     50%         75%          max  \n",
              "Rooms              3.000       4.000       16.000  \n",
              "Distance          10.500      14.000       48.100  \n",
              "Postcode        3088.000    3153.000     3978.000  \n",
              "Bedroom            3.000       4.000       20.000  \n",
              "Bathroom           1.000       2.000        9.000  \n",
              "Car                2.000       2.000       18.000  \n",
              "Landsize         513.000     664.000    76000.000  \n",
              "YearBuilt       1970.000    2000.000     2019.000  \n",
              "Propertycount   6567.000   10412.000    21650.000  \n",
              "Price         871000.000 1300000.000 11200000.000  "
            ],
            "text/html": [
              "\n",
              "  <div id=\"df-c2b52695-885c-43db-9420-3a26513a8bbf\">\n",
              "    <div class=\"colab-df-container\">\n",
              "      <div>\n",
              "<style scoped>\n",
              "    .dataframe tbody tr th:only-of-type {\n",
              "        vertical-align: middle;\n",
              "    }\n",
              "\n",
              "    .dataframe tbody tr th {\n",
              "        vertical-align: top;\n",
              "    }\n",
              "\n",
              "    .dataframe thead th {\n",
              "        text-align: right;\n",
              "    }\n",
              "</style>\n",
              "<table border=\"1\" class=\"dataframe\">\n",
              "  <thead>\n",
              "    <tr style=\"text-align: right;\">\n",
              "      <th></th>\n",
              "      <th>count</th>\n",
              "      <th>mean</th>\n",
              "      <th>std</th>\n",
              "      <th>min</th>\n",
              "      <th>25%</th>\n",
              "      <th>50%</th>\n",
              "      <th>75%</th>\n",
              "      <th>max</th>\n",
              "    </tr>\n",
              "  </thead>\n",
              "  <tbody>\n",
              "    <tr>\n",
              "      <th>Rooms</th>\n",
              "      <td>27103.000</td>\n",
              "      <td>2.992</td>\n",
              "      <td>0.955</td>\n",
              "      <td>1.000</td>\n",
              "      <td>2.000</td>\n",
              "      <td>3.000</td>\n",
              "      <td>4.000</td>\n",
              "      <td>16.000</td>\n",
              "    </tr>\n",
              "    <tr>\n",
              "      <th>Distance</th>\n",
              "      <td>27102.000</td>\n",
              "      <td>11.280</td>\n",
              "      <td>6.784</td>\n",
              "      <td>0.000</td>\n",
              "      <td>6.400</td>\n",
              "      <td>10.500</td>\n",
              "      <td>14.000</td>\n",
              "      <td>48.100</td>\n",
              "    </tr>\n",
              "    <tr>\n",
              "      <th>Postcode</th>\n",
              "      <td>27102.000</td>\n",
              "      <td>3113.787</td>\n",
              "      <td>111.129</td>\n",
              "      <td>3000.000</td>\n",
              "      <td>3046.000</td>\n",
              "      <td>3088.000</td>\n",
              "      <td>3153.000</td>\n",
              "      <td>3978.000</td>\n",
              "    </tr>\n",
              "    <tr>\n",
              "      <th>Bedroom</th>\n",
              "      <td>20678.000</td>\n",
              "      <td>3.046</td>\n",
              "      <td>0.955</td>\n",
              "      <td>0.000</td>\n",
              "      <td>2.000</td>\n",
              "      <td>3.000</td>\n",
              "      <td>4.000</td>\n",
              "      <td>20.000</td>\n",
              "    </tr>\n",
              "    <tr>\n",
              "      <th>Bathroom</th>\n",
              "      <td>20672.000</td>\n",
              "      <td>1.592</td>\n",
              "      <td>0.701</td>\n",
              "      <td>0.000</td>\n",
              "      <td>1.000</td>\n",
              "      <td>1.000</td>\n",
              "      <td>2.000</td>\n",
              "      <td>9.000</td>\n",
              "    </tr>\n",
              "    <tr>\n",
              "      <th>Car</th>\n",
              "      <td>20297.000</td>\n",
              "      <td>1.716</td>\n",
              "      <td>0.994</td>\n",
              "      <td>0.000</td>\n",
              "      <td>1.000</td>\n",
              "      <td>2.000</td>\n",
              "      <td>2.000</td>\n",
              "      <td>18.000</td>\n",
              "    </tr>\n",
              "    <tr>\n",
              "      <th>Landsize</th>\n",
              "      <td>17873.000</td>\n",
              "      <td>560.537</td>\n",
              "      <td>1411.309</td>\n",
              "      <td>50.000</td>\n",
              "      <td>220.000</td>\n",
              "      <td>513.000</td>\n",
              "      <td>664.000</td>\n",
              "      <td>76000.000</td>\n",
              "    </tr>\n",
              "    <tr>\n",
              "      <th>YearBuilt</th>\n",
              "      <td>11985.000</td>\n",
              "      <td>1966.618</td>\n",
              "      <td>36.042</td>\n",
              "      <td>1850.000</td>\n",
              "      <td>1950.000</td>\n",
              "      <td>1970.000</td>\n",
              "      <td>2000.000</td>\n",
              "      <td>2019.000</td>\n",
              "    </tr>\n",
              "    <tr>\n",
              "      <th>Propertycount</th>\n",
              "      <td>27103.000</td>\n",
              "      <td>7564.741</td>\n",
              "      <td>4494.028</td>\n",
              "      <td>83.000</td>\n",
              "      <td>4294.000</td>\n",
              "      <td>6567.000</td>\n",
              "      <td>10412.000</td>\n",
              "      <td>21650.000</td>\n",
              "    </tr>\n",
              "    <tr>\n",
              "      <th>Price</th>\n",
              "      <td>27103.000</td>\n",
              "      <td>1050664.131</td>\n",
              "      <td>641660.161</td>\n",
              "      <td>85000.000</td>\n",
              "      <td>635000.000</td>\n",
              "      <td>871000.000</td>\n",
              "      <td>1300000.000</td>\n",
              "      <td>11200000.000</td>\n",
              "    </tr>\n",
              "  </tbody>\n",
              "</table>\n",
              "</div>\n",
              "      <button class=\"colab-df-convert\" onclick=\"convertToInteractive('df-c2b52695-885c-43db-9420-3a26513a8bbf')\"\n",
              "              title=\"Convert this dataframe to an interactive table.\"\n",
              "              style=\"display:none;\">\n",
              "        \n",
              "  <svg xmlns=\"http://www.w3.org/2000/svg\" height=\"24px\"viewBox=\"0 0 24 24\"\n",
              "       width=\"24px\">\n",
              "    <path d=\"M0 0h24v24H0V0z\" fill=\"none\"/>\n",
              "    <path d=\"M18.56 5.44l.94 2.06.94-2.06 2.06-.94-2.06-.94-.94-2.06-.94 2.06-2.06.94zm-11 1L8.5 8.5l.94-2.06 2.06-.94-2.06-.94L8.5 2.5l-.94 2.06-2.06.94zm10 10l.94 2.06.94-2.06 2.06-.94-2.06-.94-.94-2.06-.94 2.06-2.06.94z\"/><path d=\"M17.41 7.96l-1.37-1.37c-.4-.4-.92-.59-1.43-.59-.52 0-1.04.2-1.43.59L10.3 9.45l-7.72 7.72c-.78.78-.78 2.05 0 2.83L4 21.41c.39.39.9.59 1.41.59.51 0 1.02-.2 1.41-.59l7.78-7.78 2.81-2.81c.8-.78.8-2.07 0-2.86zM5.41 20L4 18.59l7.72-7.72 1.47 1.35L5.41 20z\"/>\n",
              "  </svg>\n",
              "      </button>\n",
              "      \n",
              "  <style>\n",
              "    .colab-df-container {\n",
              "      display:flex;\n",
              "      flex-wrap:wrap;\n",
              "      gap: 12px;\n",
              "    }\n",
              "\n",
              "    .colab-df-convert {\n",
              "      background-color: #E8F0FE;\n",
              "      border: none;\n",
              "      border-radius: 50%;\n",
              "      cursor: pointer;\n",
              "      display: none;\n",
              "      fill: #1967D2;\n",
              "      height: 32px;\n",
              "      padding: 0 0 0 0;\n",
              "      width: 32px;\n",
              "    }\n",
              "\n",
              "    .colab-df-convert:hover {\n",
              "      background-color: #E2EBFA;\n",
              "      box-shadow: 0px 1px 2px rgba(60, 64, 67, 0.3), 0px 1px 3px 1px rgba(60, 64, 67, 0.15);\n",
              "      fill: #174EA6;\n",
              "    }\n",
              "\n",
              "    [theme=dark] .colab-df-convert {\n",
              "      background-color: #3B4455;\n",
              "      fill: #D2E3FC;\n",
              "    }\n",
              "\n",
              "    [theme=dark] .colab-df-convert:hover {\n",
              "      background-color: #434B5C;\n",
              "      box-shadow: 0px 1px 3px 1px rgba(0, 0, 0, 0.15);\n",
              "      filter: drop-shadow(0px 1px 2px rgba(0, 0, 0, 0.3));\n",
              "      fill: #FFFFFF;\n",
              "    }\n",
              "  </style>\n",
              "\n",
              "      <script>\n",
              "        const buttonEl =\n",
              "          document.querySelector('#df-c2b52695-885c-43db-9420-3a26513a8bbf button.colab-df-convert');\n",
              "        buttonEl.style.display =\n",
              "          google.colab.kernel.accessAllowed ? 'block' : 'none';\n",
              "\n",
              "        async function convertToInteractive(key) {\n",
              "          const element = document.querySelector('#df-c2b52695-885c-43db-9420-3a26513a8bbf');\n",
              "          const dataTable =\n",
              "            await google.colab.kernel.invokeFunction('convertToInteractive',\n",
              "                                                     [key], {});\n",
              "          if (!dataTable) return;\n",
              "\n",
              "          const docLinkHtml = 'Like what you see? Visit the ' +\n",
              "            '<a target=\"_blank\" href=https://colab.research.google.com/notebooks/data_table.ipynb>data table notebook</a>'\n",
              "            + ' to learn more about interactive tables.';\n",
              "          element.innerHTML = '';\n",
              "          dataTable['output_type'] = 'display_data';\n",
              "          await google.colab.output.renderOutput(dataTable, element);\n",
              "          const docLink = document.createElement('div');\n",
              "          docLink.innerHTML = docLinkHtml;\n",
              "          element.appendChild(docLink);\n",
              "        }\n",
              "      </script>\n",
              "    </div>\n",
              "  </div>\n",
              "  "
            ]
          },
          "metadata": {},
          "execution_count": 16
        }
      ]
    },
    {
      "cell_type": "code",
      "source": [
        "df['Postcode'].nunique()"
      ],
      "metadata": {
        "colab": {
          "base_uri": "https://localhost:8080/"
        },
        "id": "fEkiZs28rrMs",
        "outputId": "287c0c6c-ab99-4ee1-8cf3-d4bf9ba96fd8"
      },
      "execution_count": null,
      "outputs": [
        {
          "output_type": "execute_result",
          "data": {
            "text/plain": [
              "209"
            ]
          },
          "metadata": {},
          "execution_count": 17
        }
      ]
    },
    {
      "cell_type": "code",
      "source": [
        "cat_cols = ['Suburb', 'Type', 'SellerG', 'Regionname']\n",
        "for column in cat_cols:\n",
        "    print(df[column].value_counts())\n",
        "    print(\"-\" * 50)"
      ],
      "metadata": {
        "colab": {
          "base_uri": "https://localhost:8080/"
        },
        "id": "EDUgdfpWtizD",
        "outputId": "be3bc57a-f23f-4dce-9124-2e0de684bb3d"
      },
      "execution_count": null,
      "outputs": [
        {
          "output_type": "stream",
          "name": "stdout",
          "text": [
            "Reservoir         724\n",
            "Bentleigh East    493\n",
            "Richmond          437\n",
            "Preston           410\n",
            "Brunswick         383\n",
            "                 ... \n",
            "Wandin North        1\n",
            "Ferny Creek         1\n",
            "Tecoma              1\n",
            "Montrose            1\n",
            "viewbank            1\n",
            "Name: Suburb, Length: 345, dtype: int64\n",
            "--------------------------------------------------\n",
            "h    18394\n",
            "u     5882\n",
            "t     2827\n",
            "Name: Type, dtype: int64\n",
            "--------------------------------------------------\n",
            "Nelson           2733\n",
            "Jellis           2516\n",
            "Barry            2385\n",
            "hockingstuart    2096\n",
            "Ray              1574\n",
            "                 ... \n",
            "Allan               1\n",
            "Jim                 1\n",
            "iProperty           1\n",
            "Batty               1\n",
            "Icon                1\n",
            "Name: SellerG, Length: 347, dtype: int64\n",
            "--------------------------------------------------\n",
            "Southern Metropolitan         8480\n",
            "Northern Metropolitan         7809\n",
            "Western Metropolitan          5792\n",
            "Eastern Metropolitan          3264\n",
            "South-Eastern Metropolitan    1336\n",
            "Northern Victoria              165\n",
            "Eastern Victoria               163\n",
            "Western Victoria                94\n",
            "Name: Regionname, dtype: int64\n",
            "--------------------------------------------------\n"
          ]
        }
      ]
    },
    {
      "cell_type": "code",
      "source": [
        "sns.histplot(data=df,x='Distance',stat='density')\n",
        "plt.show()\n",
        "sns.boxplot(data=df,x='Distance')\n",
        "plt.show()"
      ],
      "metadata": {
        "colab": {
          "base_uri": "https://localhost:8080/",
          "height": 881
        },
        "id": "8i1c4YZjwGZA",
        "outputId": "45264c33-749a-42cc-e37a-56911d02434b"
      },
      "execution_count": null,
      "outputs": [
        {
          "output_type": "display_data",
          "data": {
            "text/plain": [
              "<Figure size 640x480 with 1 Axes>"
            ],
            "image/png": "[encoded data removed]"
          },
          "metadata": {}
        },
        {
          "output_type": "display_data",
          "data": {
            "text/plain": [
              "<Figure size 640x480 with 1 Axes>"
            ],
            "image/png": "[encoded data removed]"
          },
          "metadata": {}
        }
      ]
    },
    {
      "cell_type": "code",
      "source": [
        "sns.displot(data=df,x='Landsize',kind='kde')\n",
        "plt.show()\n",
        "sns.boxplot(data=df,x='Landsize')\n",
        "plt.show()"
      ],
      "metadata": {
        "colab": {
          "base_uri": "https://localhost:8080/",
          "height": 938
        },
        "id": "bjTAAZ1L0NTC",
        "outputId": "f8bedc85-ca4c-4e1a-dd76-aef6fa897419"
      },
      "execution_count": null,
      "outputs": [
        {
          "output_type": "display_data",
          "data": {
            "text/plain": [
              "<Figure size 500x500 with 1 Axes>"
            ],
            "image/png": "[encoded data removed]"
          },
          "metadata": {}
        },
        {
          "output_type": "display_data",
          "data": {
            "text/plain": [
              "<Figure size 640x480 with 1 Axes>"
            ],
            "image/png": "[encoded data removed]"
          },
          "metadata": {}
        }
      ]
    },
    {
      "cell_type": "code",
      "source": [
        "sns.displot(data=df,x=df['Landsize']/1000000,kind='kde')\n",
        "plt.show()\n",
        "sns.boxplot(data=df,x=df['Landsize']/1000000)\n",
        "plt.show()"
      ],
      "metadata": {
        "colab": {
          "base_uri": "https://localhost:8080/",
          "height": 938
        },
        "id": "2qZ7Cwbs1sBF",
        "outputId": "fe932b41-cb31-442b-bec6-06a900220d44"
      },
      "execution_count": null,
      "outputs": [
        {
          "output_type": "display_data",
          "data": {
            "text/plain": [
              "<Figure size 500x500 with 1 Axes>"
            ],
            "image/png": "[encoded data removed]"
          },
          "metadata": {}
        },
        {
          "output_type": "display_data",
          "data": {
            "text/plain": [
              "<Figure size 640x480 with 1 Axes>"
            ],
            "image/png": "[encoded data removed]"
          },
          "metadata": {}
        }
      ]
    },
    {
      "cell_type": "code",
      "source": [
        "df.loc[df['Landsize']>60000]"
      ],
      "metadata": {
        "colab": {
          "base_uri": "https://localhost:8080/",
          "height": 112
        },
        "id": "TaG3_YUO1_8E",
        "outputId": "13a3adfc-d1c2-450b-cd69-809ed3ca2c22"
      },
      "execution_count": null,
      "outputs": [
        {
          "output_type": "execute_result",
          "data": {
            "text/plain": [
              "             Suburb  Rooms Type    SellerG       Date  Distance  Postcode  \\\n",
              "23908        Silvan      3    h  Harcourts 2017-05-27    34.600  3795.000   \n",
              "25090  Balwyn North      3    h        Kay 2016-08-28     9.200  3104.000   \n",
              "\n",
              "       Bedroom  Bathroom   Car  Landsize BuildingArea  YearBuilt  \\\n",
              "23908    3.000     2.000 2.000 76000.000          NaN        NaN   \n",
              "25090    3.000     1.000 2.000 75100.000          NaN        NaN   \n",
              "\n",
              "                  Regionname  Propertycount    Price  \n",
              "23908       Eastern Victoria            457  1085000  \n",
              "25090  Southern Metropolitan           7809  2000000  "
            ],
            "text/html": [
              "\n",
              "  <div id=\"df-9becdf5b-814e-4950-adde-878813b45668\">\n",
              "    <div class=\"colab-df-container\">\n",
              "      <div>\n",
              "<style scoped>\n",
              "    .dataframe tbody tr th:only-of-type {\n",
              "        vertical-align: middle;\n",
              "    }\n",
              "\n",
              "    .dataframe tbody tr th {\n",
              "        vertical-align: top;\n",
              "    }\n",
              "\n",
              "    .dataframe thead th {\n",
              "        text-align: right;\n",
              "    }\n",
              "</style>\n",
              "<table border=\"1\" class=\"dataframe\">\n",
              "  <thead>\n",
              "    <tr style=\"text-align: right;\">\n",
              "      <th></th>\n",
              "      <th>Suburb</th>\n",
              "      <th>Rooms</th>\n",
              "      <th>Type</th>\n",
              "      <th>SellerG</th>\n",
              "      <th>Date</th>\n",
              "      <th>Distance</th>\n",
              "      <th>Postcode</th>\n",
              "      <th>Bedroom</th>\n",
              "      <th>Bathroom</th>\n",
              "      <th>Car</th>\n",
              "      <th>Landsize</th>\n",
              "      <th>BuildingArea</th>\n",
              "      <th>YearBuilt</th>\n",
              "      <th>Regionname</th>\n",
              "      <th>Propertycount</th>\n",
              "      <th>Price</th>\n",
              "    </tr>\n",
              "  </thead>\n",
              "  <tbody>\n",
              "    <tr>\n",
              "      <th>23908</th>\n",
              "      <td>Silvan</td>\n",
              "      <td>3</td>\n",
              "      <td>h</td>\n",
              "      <td>Harcourts</td>\n",
              "      <td>2017-05-27</td>\n",
              "      <td>34.600</td>\n",
              "      <td>3795.000</td>\n",
              "      <td>3.000</td>\n",
              "      <td>2.000</td>\n",
              "      <td>2.000</td>\n",
              "      <td>76000.000</td>\n",
              "      <td>NaN</td>\n",
              "      <td>NaN</td>\n",
              "      <td>Eastern Victoria</td>\n",
              "      <td>457</td>\n",
              "      <td>1085000</td>\n",
              "    </tr>\n",
              "    <tr>\n",
              "      <th>25090</th>\n",
              "      <td>Balwyn North</td>\n",
              "      <td>3</td>\n",
              "      <td>h</td>\n",
              "      <td>Kay</td>\n",
              "      <td>2016-08-28</td>\n",
              "      <td>9.200</td>\n",
              "      <td>3104.000</td>\n",
              "      <td>3.000</td>\n",
              "      <td>1.000</td>\n",
              "      <td>2.000</td>\n",
              "      <td>75100.000</td>\n",
              "      <td>NaN</td>\n",
              "      <td>NaN</td>\n",
              "      <td>Southern Metropolitan</td>\n",
              "      <td>7809</td>\n",
              "      <td>2000000</td>\n",
              "    </tr>\n",
              "  </tbody>\n",
              "</table>\n",
              "</div>\n",
              "      <button class=\"colab-df-convert\" onclick=\"convertToInteractive('df-9becdf5b-814e-4950-adde-878813b45668')\"\n",
              "              title=\"Convert this dataframe to an interactive table.\"\n",
              "              style=\"display:none;\">\n",
              "        \n",
              "  <svg xmlns=\"http://www.w3.org/2000/svg\" height=\"24px\"viewBox=\"0 0 24 24\"\n",
              "       width=\"24px\">\n",
              "    <path d=\"M0 0h24v24H0V0z\" fill=\"none\"/>\n",
              "    <path d=\"M18.56 5.44l.94 2.06.94-2.06 2.06-.94-2.06-.94-.94-2.06-.94 2.06-2.06.94zm-11 1L8.5 8.5l.94-2.06 2.06-.94-2.06-.94L8.5 2.5l-.94 2.06-2.06.94zm10 10l.94 2.06.94-2.06 2.06-.94-2.06-.94-.94-2.06-.94 2.06-2.06.94z\"/><path d=\"M17.41 7.96l-1.37-1.37c-.4-.4-.92-.59-1.43-.59-.52 0-1.04.2-1.43.59L10.3 9.45l-7.72 7.72c-.78.78-.78 2.05 0 2.83L4 21.41c.39.39.9.59 1.41.59.51 0 1.02-.2 1.41-.59l7.78-7.78 2.81-2.81c.8-.78.8-2.07 0-2.86zM5.41 20L4 18.59l7.72-7.72 1.47 1.35L5.41 20z\"/>\n",
              "  </svg>\n",
              "      </button>\n",
              "      \n",
              "  <style>\n",
              "    .colab-df-container {\n",
              "      display:flex;\n",
              "      flex-wrap:wrap;\n",
              "      gap: 12px;\n",
              "    }\n",
              "\n",
              "    .colab-df-convert {\n",
              "      background-color: #E8F0FE;\n",
              "      border: none;\n",
              "      border-radius: 50%;\n",
              "      cursor: pointer;\n",
              "      display: none;\n",
              "      fill: #1967D2;\n",
              "      height: 32px;\n",
              "      padding: 0 0 0 0;\n",
              "      width: 32px;\n",
              "    }\n",
              "\n",
              "    .colab-df-convert:hover {\n",
              "      background-color: #E2EBFA;\n",
              "      box-shadow: 0px 1px 2px rgba(60, 64, 67, 0.3), 0px 1px 3px 1px rgba(60, 64, 67, 0.15);\n",
              "      fill: #174EA6;\n",
              "    }\n",
              "\n",
              "    [theme=dark] .colab-df-convert {\n",
              "      background-color: #3B4455;\n",
              "      fill: #D2E3FC;\n",
              "    }\n",
              "\n",
              "    [theme=dark] .colab-df-convert:hover {\n",
              "      background-color: #434B5C;\n",
              "      box-shadow: 0px 1px 3px 1px rgba(0, 0, 0, 0.15);\n",
              "      filter: drop-shadow(0px 1px 2px rgba(0, 0, 0, 0.3));\n",
              "      fill: #FFFFFF;\n",
              "    }\n",
              "  </style>\n",
              "\n",
              "      <script>\n",
              "        const buttonEl =\n",
              "          document.querySelector('#df-9becdf5b-814e-4950-adde-878813b45668 button.colab-df-convert');\n",
              "        buttonEl.style.display =\n",
              "          google.colab.kernel.accessAllowed ? 'block' : 'none';\n",
              "\n",
              "        async function convertToInteractive(key) {\n",
              "          const element = document.querySelector('#df-9becdf5b-814e-4950-adde-878813b45668');\n",
              "          const dataTable =\n",
              "            await google.colab.kernel.invokeFunction('convertToInteractive',\n",
              "                                                     [key], {});\n",
              "          if (!dataTable) return;\n",
              "\n",
              "          const docLinkHtml = 'Like what you see? Visit the ' +\n",
              "            '<a target=\"_blank\" href=https://colab.research.google.com/notebooks/data_table.ipynb>data table notebook</a>'\n",
              "            + ' to learn more about interactive tables.';\n",
              "          element.innerHTML = '';\n",
              "          dataTable['output_type'] = 'display_data';\n",
              "          await google.colab.output.renderOutput(dataTable, element);\n",
              "          const docLink = document.createElement('div');\n",
              "          docLink.innerHTML = docLinkHtml;\n",
              "          element.appendChild(docLink);\n",
              "        }\n",
              "      </script>\n",
              "    </div>\n",
              "  </div>\n",
              "  "
            ]
          },
          "metadata": {},
          "execution_count": 42
        }
      ]
    },
    {
      "cell_type": "code",
      "source": [
        "sns.displot(data=df,x='BuildingArea',kind='kde')\n",
        "plt.show()\n",
        "sns.boxplot(data=df,x='BuildingArea')\n",
        "plt.show()"
      ],
      "metadata": {
        "colab": {
          "base_uri": "https://localhost:8080/",
          "height": 853
        },
        "id": "q1qNgaCa5ki4",
        "outputId": "b3d54360-116a-47be-f8b8-b1687268e5d5"
      },
      "execution_count": null,
      "outputs": [
        {
          "output_type": "error",
          "ename": "TypeError",
          "evalue": "ignored",
          "traceback": [
            "\u001b[0;31m---------------------------------------------------------------------------\u001b[0m",
            "\u001b[0;31mTypeError\u001b[0m                                 Traceback (most recent call last)",
            "\u001b[0;32m<ipython-input-43-fb602b041f1b>\u001b[0m in \u001b[0;36m<cell line: 1>\u001b[0;34m()\u001b[0m\n\u001b[0;32m----> 1\u001b[0;31m \u001b[0msns\u001b[0m\u001b[0;34m.\u001b[0m\u001b[0mdisplot\u001b[0m\u001b[0;34m(\u001b[0m\u001b[0mdata\u001b[0m\u001b[0;34m=\u001b[0m\u001b[0mdf\u001b[0m\u001b[0;34m,\u001b[0m\u001b[0mx\u001b[0m\u001b[0;34m=\u001b[0m\u001b[0;34m'BuildingArea'\u001b[0m\u001b[0;34m,\u001b[0m\u001b[0mkind\u001b[0m\u001b[0;34m=\u001b[0m\u001b[0;34m'kde'\u001b[0m\u001b[0;34m)\u001b[0m\u001b[0;34m\u001b[0m\u001b[0;34m\u001b[0m\u001b[0m\n\u001b[0m\u001b[1;32m      2\u001b[0m \u001b[0mplt\u001b[0m\u001b[0;34m.\u001b[0m\u001b[0mshow\u001b[0m\u001b[0;34m(\u001b[0m\u001b[0;34m)\u001b[0m\u001b[0;34m\u001b[0m\u001b[0;34m\u001b[0m\u001b[0m\n\u001b[1;32m      3\u001b[0m \u001b[0msns\u001b[0m\u001b[0;34m.\u001b[0m\u001b[0mboxplot\u001b[0m\u001b[0;34m(\u001b[0m\u001b[0mdata\u001b[0m\u001b[0;34m=\u001b[0m\u001b[0mdf\u001b[0m\u001b[0;34m,\u001b[0m\u001b[0mx\u001b[0m\u001b[0;34m=\u001b[0m\u001b[0;34m'BuildingArea'\u001b[0m\u001b[0;34m)\u001b[0m\u001b[0;34m\u001b[0m\u001b[0;34m\u001b[0m\u001b[0m\n\u001b[1;32m      4\u001b[0m \u001b[0mplt\u001b[0m\u001b[0;34m.\u001b[0m\u001b[0mshow\u001b[0m\u001b[0;34m(\u001b[0m\u001b[0;34m)\u001b[0m\u001b[0;34m\u001b[0m\u001b[0;34m\u001b[0m\u001b[0m\n",
            "\u001b[0;32m/usr/local/lib/python3.10/dist-packages/seaborn/distributions.py\u001b[0m in \u001b[0;36mdisplot\u001b[0;34m(data, x, y, hue, row, col, weights, kind, rug, rug_kws, log_scale, legend, palette, hue_order, hue_norm, color, col_wrap, row_order, col_order, height, aspect, facet_kws, **kwargs)\u001b[0m\n\u001b[1;32m   2171\u001b[0m     \u001b[0;32melse\u001b[0m\u001b[0;34m:\u001b[0m\u001b[0;34m\u001b[0m\u001b[0;34m\u001b[0m\u001b[0m\n\u001b[1;32m   2172\u001b[0m         \u001b[0mallowed_types\u001b[0m \u001b[0;34m=\u001b[0m \u001b[0;32mNone\u001b[0m\u001b[0;34m\u001b[0m\u001b[0;34m\u001b[0m\u001b[0m\n\u001b[0;32m-> 2173\u001b[0;31m     \u001b[0mp\u001b[0m\u001b[0;34m.\u001b[0m\u001b[0m_attach\u001b[0m\u001b[0;34m(\u001b[0m\u001b[0mg\u001b[0m\u001b[0;34m,\u001b[0m \u001b[0mallowed_types\u001b[0m\u001b[0;34m=\u001b[0m\u001b[0mallowed_types\u001b[0m\u001b[0;34m,\u001b[0m \u001b[0mlog_scale\u001b[0m\u001b[0;34m=\u001b[0m\u001b[0mlog_scale\u001b[0m\u001b[0;34m)\u001b[0m\u001b[0;34m\u001b[0m\u001b[0;34m\u001b[0m\u001b[0m\n\u001b[0m\u001b[1;32m   2174\u001b[0m \u001b[0;34m\u001b[0m\u001b[0m\n\u001b[1;32m   2175\u001b[0m     \u001b[0;31m# Check for a specification that lacks x/y data and return early\u001b[0m\u001b[0;34m\u001b[0m\u001b[0;34m\u001b[0m\u001b[0m\n",
            "\u001b[0;32m/usr/local/lib/python3.10/dist-packages/seaborn/_oldcore.py\u001b[0m in \u001b[0;36m_attach\u001b[0;34m(self, obj, allowed_types, log_scale)\u001b[0m\n\u001b[1;32m   1209\u001b[0m                     \u001b[0;34mf\"{allowed_types} is required\"\u001b[0m\u001b[0;34m\u001b[0m\u001b[0;34m\u001b[0m\u001b[0m\n\u001b[1;32m   1210\u001b[0m                 )\n\u001b[0;32m-> 1211\u001b[0;31m                 \u001b[0;32mraise\u001b[0m \u001b[0mTypeError\u001b[0m\u001b[0;34m(\u001b[0m\u001b[0merr\u001b[0m\u001b[0;34m)\u001b[0m\u001b[0;34m\u001b[0m\u001b[0;34m\u001b[0m\u001b[0m\n\u001b[0m\u001b[1;32m   1212\u001b[0m \u001b[0;34m\u001b[0m\u001b[0m\n\u001b[1;32m   1213\u001b[0m         \u001b[0;31m# -- Get axis objects for each row in plot_data for type conversions and scaling\u001b[0m\u001b[0;34m\u001b[0m\u001b[0;34m\u001b[0m\u001b[0m\n",
            "\u001b[0;31mTypeError\u001b[0m: The x variable is categorical, but one of ['numeric', 'datetime'] is required"
          ]
        },
        {
          "output_type": "display_data",
          "data": {
            "text/plain": [
              "<Figure size 500x500 with 1 Axes>"
            ],
            "image/png": "[encoded data removed]"
          },
          "metadata": {}
        }
      ]
    },
    {
      "cell_type": "code",
      "source": [
        "sns.histplot(data=df,x='Price')\n",
        "plt.show()\n",
        "sns.boxplot(data=df,x='Price')\n",
        "plt.show()"
      ],
      "metadata": {
        "colab": {
          "base_uri": "https://localhost:8080/",
          "height": 881
        },
        "id": "Ytm0UjX32e2k",
        "outputId": "9199905e-aaa9-4fc6-ca52-efd443f1763c"
      },
      "execution_count": null,
      "outputs": [
        {
          "output_type": "display_data",
          "data": {
            "text/plain": [
              "<Figure size 640x480 with 1 Axes>"
            ],
            "image/png": "[encoded data removed]"
          },
          "metadata": {}
        },
        {
          "output_type": "display_data",
          "data": {
            "text/plain": [
              "<Figure size 640x480 with 1 Axes>"
            ],
            "image/png": "[encoded data removed]"
          },
          "metadata": {}
        }
      ]
    },
    {
      "cell_type": "code",
      "source": [
        "sns.boxplot(data=df,x='Rooms')"
      ],
      "metadata": {
        "colab": {
          "base_uri": "https://localhost:8080/",
          "height": 466
        },
        "id": "Oj2IOAf37B4S",
        "outputId": "552080f6-4943-44b5-8526-3eab23df6242"
      },
      "execution_count": null,
      "outputs": [
        {
          "output_type": "execute_result",
          "data": {
            "text/plain": [
              "<Axes: xlabel='Rooms'>"
            ]
          },
          "metadata": {},
          "execution_count": 44
        },
        {
          "output_type": "display_data",
          "data": {
            "text/plain": [
              "<Figure size 640x480 with 1 Axes>"
            ],
            "image/png": "[encoded data removed]"
          },
          "metadata": {}
        }
      ]
    },
    {
      "cell_type": "code",
      "source": [
        "df.loc[df['Rooms']>7].shape"
      ],
      "metadata": {
        "colab": {
          "base_uri": "https://localhost:8080/"
        },
        "id": "v4-OWYih7YyF",
        "outputId": "561a8d23-dfad-4131-825d-7862ecf84e91"
      },
      "execution_count": null,
      "outputs": [
        {
          "output_type": "execute_result",
          "data": {
            "text/plain": [
              "(23, 16)"
            ]
          },
          "metadata": {},
          "execution_count": 46
        }
      ]
    }
  ]
}