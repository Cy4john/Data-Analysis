{
  "cells": [
    {
      "cell_type": "markdown",
      "metadata": {
        "id": "view-in-github",
        "colab_type": "text"
      },
      "source": [
        "<a href=\"https://colab.research.google.com/github/Cy4john/Data-Analysis/blob/master/copy_of_python_foundations.ipynb\" target=\"_parent\"><img src=\"https://colab.research.google.com/assets/colab-badge.svg\" alt=\"Open In Colab\"/></a>"
      ]
    },
    {
      "cell_type": "code",
      "execution_count": null,
      "metadata": {
        "colab": {
          "base_uri": "https://localhost:8080/"
        },
        "id": "3Z8SSYe70H8B",
        "outputId": "8b1062a5-8c85-46eb-c48c-54be0cedc5c8"
      },
      "outputs": [
        {
          "name": "stdout",
          "output_type": "stream",
          "text": [
            "good morning world how are you\n"
          ]
        }
      ],
      "source": [
        "print('good morning world','how are you')"
      ]
    },
    {
      "cell_type": "code",
      "execution_count": null,
      "metadata": {
        "id": "LZDAS7AfvV6H"
      },
      "outputs": [],
      "source": []
    },
    {
      "cell_type": "code",
      "execution_count": null,
      "metadata": {
        "colab": {
          "base_uri": "https://localhost:8080/"
        },
        "id": "PIH8E2BL2CGh",
        "outputId": "75f925de-2036-4154-9eb8-047254779599"
      },
      "outputs": [
        {
          "data": {
            "text/plain": [
              "4"
            ]
          },
          "execution_count": 3,
          "metadata": {},
          "output_type": "execute_result"
        }
      ],
      "source": [
        "2+2"
      ]
    },
    {
      "cell_type": "code",
      "execution_count": null,
      "metadata": {
        "colab": {
          "base_uri": "https://localhost:8080/",
          "height": 153
        },
        "id": "YtyiJSA42l-y",
        "outputId": "92a652a2-4932-4b71-fed2-1dc1da06f511"
      },
      "outputs": [
        {
          "ename": "SyntaxError",
          "evalue": "ignored",
          "output_type": "error",
          "traceback": [
            "\u001b[0;36m  File \u001b[0;32m\"<ipython-input-4-22596363b3de>\"\u001b[0;36m, line \u001b[0;32m1\u001b[0m\n\u001b[0;31m    hello world\u001b[0m\n\u001b[0m          ^\u001b[0m\n\u001b[0;31mSyntaxError\u001b[0m\u001b[0;31m:\u001b[0m invalid syntax\n"
          ]
        }
      ],
      "source": [
        "hello world"
      ]
    },
    {
      "cell_type": "code",
      "execution_count": null,
      "metadata": {
        "id": "qGVKWWte4IXC"
      },
      "outputs": [],
      "source": [
        "print('hello '+' world', 2+2')"
      ]
    },
    {
      "cell_type": "code",
      "execution_count": null,
      "metadata": {
        "id": "0eJsPeWB8j6Q"
      },
      "outputs": [],
      "source": [
        "print('i am + ' 25 years old\")"
      ]
    },
    {
      "cell_type": "markdown",
      "metadata": {
        "id": "8upH_91U5L4v"
      },
      "source": []
    },
    {
      "cell_type": "code",
      "execution_count": null,
      "metadata": {
        "id": "hNOzNpy31Q8X"
      },
      "outputs": [],
      "source": [
        "2+2"
      ]
    },
    {
      "cell_type": "code",
      "execution_count": null,
      "metadata": {
        "id": "TyoZMEKL7I_P"
      },
      "outputs": [],
      "source": [
        "2+2\n",
        "4+4"
      ]
    },
    {
      "cell_type": "code",
      "execution_count": null,
      "metadata": {
        "id": "WlmPdg897Yr3"
      },
      "outputs": [],
      "source": [
        "print('hello world',2+2,'this is python',sep='asdf')"
      ]
    },
    {
      "cell_type": "code",
      "execution_count": null,
      "metadata": {
        "id": "OpYEbabLoKKT"
      },
      "outputs": [],
      "source": [
        "#hastags in code cells are called comments. Everything to the right of a hashtag is not run as a code.\n",
        "#it is completely ignored by python. They are only there to make you understand what's going on in your code cells.\n",
        "2+2 #This is adding two plus two\n",
        "# we can add strings together. Those things inside a quote are called strings\n",
        "print ('hello'+'world')"
      ]
    },
    {
      "cell_type": "code",
      "execution_count": null,
      "metadata": {
        "id": "MhGzljCNOD0k"
      },
      "outputs": [],
      "source": [
        "print('hello '+' world')"
      ]
    },
    {
      "cell_type": "code",
      "execution_count": null,
      "metadata": {
        "id": "T7GBXAn0OTBF"
      },
      "outputs": [],
      "source": [
        "print('hello'+5)"
      ]
    },
    {
      "cell_type": "code",
      "execution_count": null,
      "metadata": {
        "id": "SC8DCaQhOvWA"
      },
      "outputs": [],
      "source": [
        "print(4*4)"
      ]
    },
    {
      "cell_type": "code",
      "execution_count": null,
      "metadata": {
        "id": "v2IySZYsO5pW"
      },
      "outputs": [],
      "source": [
        "print(\"i am\", 25, \"years old\")"
      ]
    },
    {
      "cell_type": "code",
      "execution_count": null,
      "metadata": {
        "id": "SQNbnNCJPMXW"
      },
      "outputs": [],
      "source": [
        "print(\"i am\" + \"25 years old\")"
      ]
    },
    {
      "cell_type": "markdown",
      "metadata": {
        "id": "7zF7yaaVPk2I"
      },
      "source": [
        "A Mobile store Zindiworld sells different mobile phones to customers. For each order that is placed, the store keeps a record of various attributes related to the mobile. Like price, brand, RAM(GB),and Internal storage (GB).\n",
        "Let's learn python using the content of the stores's data\n",
        "\n",
        "INTRODUCTION TO VARIABLES\n",
        "\n",
        "\n",
        "First we need to store our data to a variable that can be used to extract the stored information later. Let's take an example of how we can do that in python.\n",
        "\n",
        "Q.Suppose the store sold a Apple Iphone(4GB, 128GB) for $900. Store this information in variables price, brand, RAM and storage"
      ]
    },
    {
      "cell_type": "code",
      "execution_count": null,
      "metadata": {
        "id": "XIOcIoTV96nq"
      },
      "outputs": [],
      "source": [
        "# store the price (in dollars) of the mobile in variable 'price'\n",
        "price = 900\n",
        "#print the value saved in the variable 'price'\n",
        "print('the price of the mobile is $',price,sep='')"
      ]
    },
    {
      "cell_type": "code",
      "execution_count": null,
      "metadata": {
        "id": "NKvDRRZJTwVJ"
      },
      "outputs": [],
      "source": [
        "# store the brand name of the mobile in variable 'brand'\n",
        "brand = 'Apple'\n",
        "# print the value saved in the variable 'brand'\n",
        "print ('The brand of the mobile is',brand)"
      ]
    },
    {
      "cell_type": "code",
      "execution_count": null,
      "metadata": {
        "id": "xKX1Bsb0UxPB"
      },
      "outputs": [],
      "source": [
        "# store the RAM (in GB) of the mobile in variable 'ram'\n",
        "ram = 4\n",
        "# print the value saved in the variable 'ram'\n",
        "print ('The RAM of the mobile is',ram)"
      ]
    },
    {
      "cell_type": "code",
      "execution_count": null,
      "metadata": {
        "id": "crGXiu71JC77"
      },
      "outputs": [],
      "source": [
        "# store the internal storage (in GB) of the mobile in variable 'storage'\n",
        "storage = 128\n",
        "# print the value saved in the variable 'storage'\n",
        "print ('The internal storage of the mobile is',storage, 'GB')"
      ]
    },
    {
      "cell_type": "markdown",
      "metadata": {
        "id": "wpPoMYySJ1cn"
      },
      "source": [
        "Q. Let's say the store wants to save the information on the biling status of the above phone in a boolean variable.. Write the code in python to implement the same."
      ]
    },
    {
      "cell_type": "code",
      "execution_count": null,
      "metadata": {
        "id": "9ZkJWx6bV-gl"
      },
      "outputs": [],
      "source": [
        "# a special type of variable stores just true/false values. This is called the boolean variable\n",
        "# create a boolean variabl 'is_billed' to save the billing information\n",
        "is_billed=True\n",
        "print(is_billed)"
      ]
    },
    {
      "cell_type": "markdown",
      "metadata": {
        "id": "bde5PxqIXYYv"
      },
      "source": [
        "TYPES OF VARIABLES\n",
        "\n",
        "The value that we store in a variable can be a number or a set of characters or a boolean variable(True/False).For example,a price is a number while the brand name is a set of characters which is also known as a string in python.Whenever we store a value in a variable, Python automatically assigns a data type to that variable based on the value.it also allows us to check the data type of the variable.\n",
        "\n",
        "Q.Check the data type of the variables price,brand,ram,and storage\n"
      ]
    },
    {
      "cell_type": "code",
      "execution_count": null,
      "metadata": {
        "id": "FA1-hoWubeIJ"
      },
      "outputs": [],
      "source": [
        "# check the data-type using the type function\n",
        "type(price)"
      ]
    },
    {
      "cell_type": "code",
      "execution_count": null,
      "metadata": {
        "id": "bwS9jhoADDh-"
      },
      "outputs": [],
      "source": [
        "vec = np.linspace(10,20,3)\n",
        "print(vec)"
      ]
    },
    {
      "cell_type": "code",
      "execution_count": null,
      "metadata": {
        "id": "oYqLwpwGKBKU"
      },
      "outputs": [],
      "source": [
        "vec = np.zeros([2,3])\n",
        "print(vec)"
      ]
    },
    {
      "cell_type": "code",
      "execution_count": null,
      "metadata": {
        "id": "XQ8TrwE9O0du"
      },
      "outputs": [],
      "source": []
    },
    {
      "cell_type": "markdown",
      "metadata": {
        "id": "WrYThIcpRWhU"
      },
      "source": []
    },
    {
      "cell_type": "code",
      "execution_count": null,
      "metadata": {
        "id": "nDSFRwnSRXy8"
      },
      "outputs": [],
      "source": []
    },
    {
      "cell_type": "code",
      "execution_count": null,
      "metadata": {
        "id": "vtHINMJJRYVD"
      },
      "outputs": [],
      "source": [
        "import numpy as np\n"
      ]
    },
    {
      "cell_type": "code",
      "execution_count": null,
      "metadata": {
        "id": "ny6CE5RwVosO"
      },
      "outputs": [],
      "source": [
        "mat1 = np.arange(1,5).reshape(2,2)\n",
        "\n",
        "mat2 = np.eye(2)\n",
        "print(mat1/mat2)\n"
      ]
    },
    {
      "cell_type": "code",
      "execution_count": null,
      "metadata": {
        "id": "4RalfjEKg4ia"
      },
      "outputs": [],
      "source": []
    },
    {
      "cell_type": "code",
      "execution_count": null,
      "metadata": {
        "id": "HaLz9tksbz3M"
      },
      "outputs": [],
      "source": [
        "# check the data-type using the type function\n",
        "type(brand)"
      ]
    },
    {
      "cell_type": "code",
      "execution_count": null,
      "metadata": {
        "id": "FxZ66Ja0h9Hs"
      },
      "outputs": [],
      "source": [
        "# check the data-type using the type function\n",
        "type(ram)"
      ]
    },
    {
      "cell_type": "code",
      "execution_count": null,
      "metadata": {
        "id": "9LsvXh7ziXcF"
      },
      "outputs": [],
      "source": [
        "# check the data-type using the type function\n",
        "type(storage)"
      ]
    },
    {
      "cell_type": "code",
      "execution_count": null,
      "metadata": {
        "id": "QUb6AFh5KyI0"
      },
      "outputs": [],
      "source": [
        "# check the data-type using the type function\n",
        "type(is_billed)"
      ]
    },
    {
      "cell_type": "code",
      "execution_count": null,
      "metadata": {
        "id": "skaBPtUJKsL4"
      },
      "outputs": [],
      "source": [
        "#store the price (in dollars)of the mobile in variable 'price'\n",
        "price =900\n",
        "#the same result can be achieved by multiplication\n",
        "bill=price*2\n",
        "print('the bill amount is $',bill,sep='')"
      ]
    },
    {
      "cell_type": "code",
      "execution_count": null,
      "metadata": {
        "id": "ZXOL3-lQxxmI"
      },
      "outputs": [],
      "source": [
        "#store the price(in dollars) of the mobile in variables 'price'\n",
        "price=900\n",
        "#store the discount amount in variables 'discount'\n",
        "discount=15\n",
        "#calculate the price of the mobile\n",
        "price=bill/2\n",
        "print('the price of an apple iphone is $',price,sep='')"
      ]
    },
    {
      "cell_type": "code",
      "execution_count": null,
      "metadata": {
        "id": "PHBTYTs7zDoA"
      },
      "outputs": [],
      "source": [
        "#store the bill(in dollars) of the two mobiles in variable 'bill'\n",
        "bill=1800\n",
        "#calculate the price of one mobile\n",
        "price=bill/2\n",
        "print('the price of an apple iphone is $',price,sep='')"
      ]
    },
    {
      "cell_type": "code",
      "execution_count": null,
      "metadata": {
        "id": "EtBWIuvuz6zc"
      },
      "outputs": [],
      "source": [
        "from os import PRIO_PROCESS\n",
        "from os import PRIO_PROCESS\n",
        "#store the bill(in dollars) of the mobile in variable 'bill'\n",
        "bill=3600\n",
        "#store the price (in dollars) of the mobile in variable 'price'\n",
        "price=900\n",
        "#calculate the number of iphone that the customer buys\n",
        "x=bill // price\n",
        "#double divide forces the answer to be an integer!\n",
        "print('the customer buys',x,'apple iphone')"
      ]
    },
    {
      "cell_type": "code",
      "execution_count": null,
      "metadata": {
        "id": "aPuDrL8555fz"
      },
      "outputs": [],
      "source": [
        "a=30\n",
        "b=6\n",
        "c=a/b\n",
        "print('a is of type', type(a), 'and c is of type', type(c))"
      ]
    },
    {
      "cell_type": "code",
      "execution_count": null,
      "metadata": {
        "id": "4w7-tueB7Mzi"
      },
      "outputs": [],
      "source": [
        "#store the price (in dollars) of the mobile in variable 'price'\n",
        "price=900\n",
        "#calculate the discount amount\n",
        "discount=price*8.645\n",
        "#calculate the discount price\n",
        "discounted_price=price-discount\n",
        "print('the discounted price of the iphone is',str(discounted_price))"
      ]
    },
    {
      "cell_type": "code",
      "execution_count": null,
      "metadata": {
        "id": "9mM3GmsQEfPk"
      },
      "outputs": [],
      "source": [
        "type(discounted_price)\n",
        "print('the datatype of variable price is',type(discount))"
      ]
    },
    {
      "cell_type": "code",
      "execution_count": null,
      "metadata": {
        "id": "oTEnhvGHcfbB"
      },
      "outputs": [],
      "source": [
        "a=4.5\n",
        "b=int(a)\n",
        "type(b)"
      ]
    },
    {
      "cell_type": "code",
      "execution_count": null,
      "metadata": {
        "id": "vzL65fQzcsbq"
      },
      "outputs": [],
      "source": [
        "a='hi'\n",
        "b=int(a)\n",
        "type(b)"
      ]
    },
    {
      "cell_type": "markdown",
      "metadata": {
        "id": "ZA0PMaN5xKB_"
      },
      "source": [
        "DATA STRUCTURES\n",
        "ZindiWorld storeshasprovided a snapshot of the details of mobile phones soldby them.\n",
        " BRAND  RAM(in GB)  Memory(in GB)  Price(in dollars)\n",
        " Apple     4              128           900\n",
        " Samsung   12             128           899\n",
        " LG        8              64            600\n",
        " Apple     8              128           1000\n",
        "\n",
        "We know how to create a variable to store the brand name.\n",
        "\n",
        "\n"
      ]
    },
    {
      "cell_type": "code",
      "execution_count": null,
      "metadata": {
        "id": "3sf17Rc3u3r5"
      },
      "outputs": [],
      "source": [
        "Brand = 'Apple'\n",
        "print(Brand)"
      ]
    },
    {
      "cell_type": "code",
      "execution_count": null,
      "metadata": {
        "id": "2FaKLXoEx0OL"
      },
      "outputs": [],
      "source": [
        "#create a list\n",
        "brand_list=['Apple', 'Samsung', 'LG', 'Apple']\n",
        "brand_list"
      ]
    },
    {
      "cell_type": "code",
      "execution_count": null,
      "metadata": {
        "id": "2klefNjOyrXf"
      },
      "outputs": [],
      "source": [
        "#check the type of the variable 'brand_list'\n",
        "type(brand_list)"
      ]
    },
    {
      "cell_type": "code",
      "execution_count": null,
      "metadata": {
        "id": "mpU4zhR8zG6Y"
      },
      "outputs": [],
      "source": [
        "ram_list = [4, 12, 8, 8]\n",
        "storage_list = [128, 128, 64, 128]\n",
        "price_list = [900, 899, 600, 1000]"
      ]
    },
    {
      "cell_type": "code",
      "execution_count": null,
      "metadata": {
        "id": "gY6ryueX0YvS"
      },
      "outputs": [],
      "source": [
        "#let's print\n",
        "print('RAM list', ram_list)\n",
        "print('storage list', storage_list)\n",
        "print('print list', price_list)"
      ]
    },
    {
      "cell_type": "code",
      "execution_count": null,
      "metadata": {
        "id": "2jW-7sej00xK"
      },
      "outputs": [],
      "source": [
        "len(brand_list)"
      ]
    },
    {
      "cell_type": "code",
      "execution_count": null,
      "metadata": {
        "id": "0qYPN0-40xIF"
      },
      "outputs": [],
      "source": [
        "# minimum price\n",
        "min_price = min(price_list)\n",
        "print('The minimum price is $' + str(min_price))\n",
        "# maximum price\n",
        "max_price = max(price_list)\n",
        "print('the maximum price is $' + str(max_price))"
      ]
    },
    {
      "cell_type": "code",
      "execution_count": null,
      "metadata": {
        "id": "XHyXEFdy2Bbf"
      },
      "outputs": [],
      "source": [
        "# indexing to get thethird item in ram_list\n",
        "print(ram_list[2])"
      ]
    },
    {
      "cell_type": "code",
      "execution_count": null,
      "metadata": {
        "id": "71uxnBe13Fmg"
      },
      "outputs": [],
      "source": [
        "#first three items in price_list\n",
        "print(price_list[0:3])"
      ]
    },
    {
      "cell_type": "code",
      "execution_count": null,
      "metadata": {
        "id": "kxPPSp2y3kbr"
      },
      "outputs": [],
      "source": [
        "#last item in brand_list\n",
        "print(brand_list[-1])\n"
      ]
    },
    {
      "cell_type": "code",
      "execution_count": null,
      "metadata": {
        "id": "4KadqYuw6GO7"
      },
      "outputs": [],
      "source": [
        "brand_list.pop()"
      ]
    },
    {
      "cell_type": "code",
      "execution_count": null,
      "metadata": {
        "id": "IFV2Tr7Z_qx1"
      },
      "outputs": [],
      "source": [
        "x=[10, \"great\", \"range\", -54, 11, 12]\n",
        "print(x[-2:-1])"
      ]
    },
    {
      "cell_type": "code",
      "execution_count": null,
      "metadata": {
        "id": "ylFkJC9qBTyh"
      },
      "outputs": [],
      "source": [
        "a=1\n",
        "for i in range(1,6):\n",
        "    a=a*i\n",
        "    print(a)"
      ]
    },
    {
      "cell_type": "code",
      "execution_count": null,
      "metadata": {
        "id": "K2XZm4gdCR1Y"
      },
      "outputs": [],
      "source": [
        "list_mul = ['2','2','2']\n",
        "list_mul*2"
      ]
    },
    {
      "cell_type": "code",
      "execution_count": null,
      "metadata": {
        "id": "l6eISZrkCRv6"
      },
      "outputs": [],
      "source": [
        "i='20'\n",
        "if i>20:\n",
        "  print(1)\n",
        "else:\n",
        "    print(2)"
      ]
    },
    {
      "cell_type": "code",
      "execution_count": null,
      "metadata": {
        "id": "VpvO8348DOfI"
      },
      "outputs": [],
      "source": [
        "a=10\n",
        "b=2.3\n",
        "c=a*b\n",
        "type(c)"
      ]
    },
    {
      "cell_type": "code",
      "execution_count": null,
      "metadata": {
        "id": "Zz1NLktyVmHw"
      },
      "outputs": [],
      "source": [
        "ok type(45)\n",
        "print ('Hello')\n"
      ]
    },
    {
      "cell_type": "code",
      "execution_count": null,
      "metadata": {
        "colab": {
          "background_save": true,
          "base_uri": "https://localhost:8080/"
        },
        "id": "HeV-cNCgUloE",
        "outputId": "2d9166a6-fd62-4e32-dc5b-4bede1cc2c0c"
      },
      "outputs": [
        {
          "name": "stdout",
          "output_type": "stream",
          "text": [
            "This program is design by cynthia python class Ajah to calculate simple interest\n"
          ]
        }
      ],
      "source": [
        "import math\n",
        "#Tell the users the purpose of this program\n",
        "print(\"This program is design by cynthia python class Ajah to calculate simple interest\")\n",
        "\n",
        "#Ask the user to enter the principal amount\n",
        "principalAmount = float(input(\"please enter the principal\"))\n",
        "\n",
        "#Ask the user to input the rate\n",
        "InterestRate = float(input(\"please enter the rate\"))\n",
        "\n",
        "#Ask the user to input time period\n",
        "TimePeriod = float(input(\"please enter the time\"))\n",
        "\n",
        "#calculate the simple interest\n",
        "simpleInterest = (principalAmount * InterestRate * TimePeriod)/100\n",
        "#print out the simple interest\n",
        "print (\"The simple interest is:\")\n",
        "print(simpleInterest)\n",
        "totalAmount =simpleInterest + principalAmount\n",
        "print(\"Total Amount Received from the borrower:\")\n",
        "print(totalAmount)"
      ]
    },
    {
      "cell_type": "code",
      "execution_count": null,
      "metadata": {
        "id": "dNqGba9IMgJH"
      },
      "outputs": [],
      "source": [
        "#Display the purpose of the program\n",
        "print(\"This is cynthia quiz\")\n",
        "\n",
        "#Display the instructions\n",
        "print(\"select the letter with the correct option\")\n",
        "\n",
        "#Initialize the score variable\n",
        "score=0\n",
        "\n",
        "#Ask the user a question\n",
        "question1 = input(\"How many Generations of computer do we have?\\n(a)4\\n(b)5\\n(c)8\\n(d)6\\n\")\n",
        "#wait for the answer\n",
        "#if the question is correct, display:\"correct\" and add 1 to the score\n",
        "if (question1.lower()==\"b\"):\n",
        "    print(\"correct\")\n",
        "    score=score+5\n",
        "#else display:\"wrong\"\n",
        "else:\n",
        "    print(\"wrong\")\n",
        "\n",
        "\n",
        "#Ask the user a question\n",
        "question2 = input(\"How many things happens when a computer computes?\\n(a)4\\n(b)5\\n(c)8\\n(d)6\\n\")\n",
        "\n",
        "#wait for the answer\n",
        "#if the question is correct, display:\"correct\" and add 1 to the score\n",
        "if (question2.lower()==\"a\"):\n",
        "    print(\"correct\")\n",
        "    score=score+5\n",
        "#else display:\"wrong\"\n",
        "else:\n",
        "    print(\"wrong\")\n",
        "\n",
        "\n",
        "#Ask the user a question\n",
        "question3 = input(\"A computer is said to be _______when it can work for several hours\\n(a)good\\n(b)big\\n(c)versatile\\n(d)diligent\\n\")\n",
        "\n",
        "#wait for the answer\n",
        "#if the question is correct, display:\"correct\" and add 1 to the score\n",
        "if (question3.lower()==\"d\"):\n",
        "    print(\"correct\")\n",
        "    score=score+5\n",
        "#else display:\"wrong\"\n",
        "else:\n",
        "    print(\"wrong\")\n",
        "#Go back to step 3 until all the questions have been answered\n",
        "print(\"the score of the user\")\n",
        "print(\"your total score is\",score)"
      ]
    }
  ],
  "metadata": {
    "colab": {
      "provenance": [],
      "authorship_tag": "ABX9TyPL3T3WpklZI2WGI7m5KPpr",
      "include_colab_link": true
    },
    "kernelspec": {
      "display_name": "Python 3",
      "name": "python3"
    },
    "language_info": {
      "name": "python"
    }
  },
  "nbformat": 4,
  "nbformat_minor": 0
}