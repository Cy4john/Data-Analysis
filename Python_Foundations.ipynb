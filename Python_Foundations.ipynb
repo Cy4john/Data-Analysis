{
  "nbformat": 4,
  "nbformat_minor": 0,
  "metadata": {
    "colab": {
      "provenance": [],
      "history_visible": true,
      "authorship_tag": "ABX9TyO1BnB1cghMXBmQA1huduNv",
      "include_colab_link": true
    },
    "kernelspec": {
      "name": "python3",
      "display_name": "Python 3"
    },
    "language_info": {
      "name": "python"
    }
  },
  "cells": [
    {
      "cell_type": "markdown",
      "metadata": {
        "id": "view-in-github",
        "colab_type": "text"
      },
      "source": [
        "<a href=\"https://colab.research.google.com/github/Cy4john/Data-Analysis/blob/master/Python_Foundations.ipynb\" target=\"_parent\"><img src=\"https://colab.research.google.com/assets/colab-badge.svg\" alt=\"Open In Colab\"/></a>"
      ]
    },
    {
      "cell_type": "code",
      "execution_count": null,
      "metadata": {
        "colab": {
          "base_uri": "https://localhost:8080/"
        },
        "id": "3Z8SSYe70H8B",
        "outputId": "ce03d8a5-8367-44b1-e8e4-ac3e93d2df73"
      },
      "outputs": [
        {
          "output_type": "stream",
          "name": "stdout",
          "text": [
            "good morning world how are you\n"
          ]
        }
      ],
      "source": [
        "print('good morning world','how are you')"
      ]
    },
    {
      "cell_type": "code",
      "source": [],
      "metadata": {
        "id": "oGt-JsnU0jCC"
      },
      "execution_count": null,
      "outputs": []
    },
    {
      "cell_type": "code",
      "source": [
        "2+2"
      ],
      "metadata": {
        "colab": {
          "base_uri": "https://localhost:8080/"
        },
        "id": "PIH8E2BL2CGh",
        "outputId": "e69451d4-2f57-4dc4-adcf-d818b4b89ab3"
      },
      "execution_count": null,
      "outputs": [
        {
          "output_type": "execute_result",
          "data": {
            "text/plain": [
              "4"
            ]
          },
          "metadata": {},
          "execution_count": 1
        }
      ]
    },
    {
      "cell_type": "code",
      "source": [
        "hello world"
      ],
      "metadata": {
        "colab": {
          "base_uri": "https://localhost:8080/",
          "height": 130
        },
        "id": "YtyiJSA42l-y",
        "outputId": "e39d555d-17f5-4ebb-e599-99e08ecc9ec2"
      },
      "execution_count": null,
      "outputs": [
        {
          "output_type": "error",
          "ename": "SyntaxError",
          "evalue": "ignored",
          "traceback": [
            "\u001b[0;36m  File \u001b[0;32m\"<ipython-input-2-22596363b3de>\"\u001b[0;36m, line \u001b[0;32m1\u001b[0m\n\u001b[0;31m    hello world\u001b[0m\n\u001b[0m          ^\u001b[0m\n\u001b[0;31mSyntaxError\u001b[0m\u001b[0;31m:\u001b[0m invalid syntax\n"
          ]
        }
      ]
    },
    {
      "cell_type": "code",
      "source": [
        "print('hello '+' world', 2+2')"
      ],
      "metadata": {
        "colab": {
          "base_uri": "https://localhost:8080/",
          "height": 130
        },
        "id": "qGVKWWte4IXC",
        "outputId": "c03bc496-5c91-4a5b-b5ab-7df599b51569"
      },
      "execution_count": null,
      "outputs": [
        {
          "output_type": "error",
          "ename": "SyntaxError",
          "evalue": "ignored",
          "traceback": [
            "\u001b[0;36m  File \u001b[0;32m\"<ipython-input-4-f23f73d47e53>\"\u001b[0;36m, line \u001b[0;32m1\u001b[0m\n\u001b[0;31m    print('hello '+' world', 2+2')\u001b[0m\n\u001b[0m                                  ^\u001b[0m\n\u001b[0;31mSyntaxError\u001b[0m\u001b[0;31m:\u001b[0m EOL while scanning string literal\n"
          ]
        }
      ]
    },
    {
      "cell_type": "code",
      "source": [
        "print('i am + ' 25 years old\")"
      ],
      "metadata": {
        "colab": {
          "base_uri": "https://localhost:8080/",
          "height": 130
        },
        "id": "0eJsPeWB8j6Q",
        "outputId": "0615dae9-4c11-404d-bb38-50bba2e55718"
      },
      "execution_count": null,
      "outputs": [
        {
          "output_type": "error",
          "ename": "SyntaxError",
          "evalue": "ignored",
          "traceback": [
            "\u001b[0;36m  File \u001b[0;32m\"<ipython-input-6-4d1bd66f0e9c>\"\u001b[0;36m, line \u001b[0;32m1\u001b[0m\n\u001b[0;31m    print('i am + ' 25 years old\")\u001b[0m\n\u001b[0m                    ^\u001b[0m\n\u001b[0;31mSyntaxError\u001b[0m\u001b[0;31m:\u001b[0m invalid syntax\n"
          ]
        }
      ]
    },
    {
      "cell_type": "markdown",
      "source": [],
      "metadata": {
        "id": "8upH_91U5L4v"
      }
    },
    {
      "cell_type": "code",
      "source": [
        "2+2"
      ],
      "metadata": {
        "colab": {
          "base_uri": "https://localhost:8080/"
        },
        "id": "hNOzNpy31Q8X",
        "outputId": "dd2cc770-1846-48fc-9b87-91f782fd7dae"
      },
      "execution_count": null,
      "outputs": [
        {
          "output_type": "execute_result",
          "data": {
            "text/plain": [
              "4"
            ]
          },
          "metadata": {},
          "execution_count": 6
        }
      ]
    },
    {
      "cell_type": "code",
      "source": [
        "2+2\n",
        "4+4"
      ],
      "metadata": {
        "colab": {
          "base_uri": "https://localhost:8080/"
        },
        "id": "TyoZMEKL7I_P",
        "outputId": "554068fb-d5f9-4b06-e246-3fe95b6191ec"
      },
      "execution_count": null,
      "outputs": [
        {
          "output_type": "execute_result",
          "data": {
            "text/plain": [
              "8"
            ]
          },
          "metadata": {},
          "execution_count": 7
        }
      ]
    },
    {
      "cell_type": "code",
      "source": [
        "print('hello world',2+2,'this is python',sep='asdf')"
      ],
      "metadata": {
        "colab": {
          "base_uri": "https://localhost:8080/"
        },
        "id": "WlmPdg897Yr3",
        "outputId": "5c4696c3-4e64-42f6-95c5-e62f02dbe4e5"
      },
      "execution_count": null,
      "outputs": [
        {
          "output_type": "stream",
          "name": "stdout",
          "text": [
            "hello worldasdf4asdfthis is python\n"
          ]
        }
      ]
    },
    {
      "cell_type": "code",
      "source": [
        "# store the price (in dollars) of the mobile is variable 'price'\n",
        "price = 900\n",
        "#print the value saved in the variable 'price'\n",
        "print('the price of the mobile is',price,sep='')"
      ],
      "metadata": {
        "colab": {
          "base_uri": "https://localhost:8080/"
        },
        "id": "XIOcIoTV96nq",
        "outputId": "e53a1cf2-e96a-46ad-9a88-9c2d41eecf4b"
      },
      "execution_count": null,
      "outputs": [
        {
          "output_type": "stream",
          "name": "stdout",
          "text": [
            "the price of the mobile is900\n"
          ]
        }
      ]
    },
    {
      "cell_type": "code",
      "source": [
        "print('a is of type', type(a), 'and c is of type', type(c))"
      ],
      "metadata": {
        "colab": {
          "base_uri": "https://localhost:8080/",
          "height": 165
        },
        "id": "8d5jnKOu_i0J",
        "outputId": "333f38bb-3fb9-41e2-efc2-e384197737db"
      },
      "execution_count": null,
      "outputs": [
        {
          "output_type": "error",
          "ename": "NameError",
          "evalue": "ignored",
          "traceback": [
            "\u001b[0;31m---------------------------------------------------------------------------\u001b[0m",
            "\u001b[0;31mNameError\u001b[0m                                 Traceback (most recent call last)",
            "\u001b[0;32m<ipython-input-20-6e3f238797ad>\u001b[0m in \u001b[0;36m<module>\u001b[0;34m\u001b[0m\n\u001b[0;32m----> 1\u001b[0;31m \u001b[0mprint\u001b[0m\u001b[0;34m(\u001b[0m\u001b[0;34m'a is of type'\u001b[0m\u001b[0;34m,\u001b[0m \u001b[0mtype\u001b[0m\u001b[0;34m(\u001b[0m\u001b[0ma\u001b[0m\u001b[0;34m)\u001b[0m\u001b[0;34m,\u001b[0m \u001b[0;34m'and c is of type'\u001b[0m\u001b[0;34m,\u001b[0m \u001b[0mtype\u001b[0m\u001b[0;34m(\u001b[0m\u001b[0mc\u001b[0m\u001b[0;34m)\u001b[0m\u001b[0;34m)\u001b[0m\u001b[0;34m\u001b[0m\u001b[0;34m\u001b[0m\u001b[0m\n\u001b[0m",
            "\u001b[0;31mNameError\u001b[0m: name 'a' is not defined"
          ]
        }
      ]
    },
    {
      "cell_type": "code",
      "source": [
        "a= 'hi'\n",
        "b=int(a)\n",
        "type(b)\n",
        "\n"
      ],
      "metadata": {
        "colab": {
          "base_uri": "https://localhost:8080/",
          "height": 217
        },
        "id": "tBWHPUZ1Iinj",
        "outputId": "52b03186-4fde-4e7f-910a-6f69a9fb7256"
      },
      "execution_count": null,
      "outputs": [
        {
          "output_type": "error",
          "ename": "NameError",
          "evalue": "ignored",
          "traceback": [
            "\u001b[0;31m---------------------------------------------------------------------------\u001b[0m",
            "\u001b[0;31mNameError\u001b[0m                                 Traceback (most recent call last)",
            "\u001b[0;32m<ipython-input-26-be7989a16b54>\u001b[0m in \u001b[0;36m<module>\u001b[0;34m\u001b[0m\n\u001b[0;32m----> 1\u001b[0;31m \u001b[0ma\u001b[0m\u001b[0;34m=\u001b[0m\u001b[0mhi\u001b[0m\u001b[0;34m\u001b[0m\u001b[0;34m\u001b[0m\u001b[0m\n\u001b[0m\u001b[1;32m      2\u001b[0m \u001b[0mb\u001b[0m\u001b[0;34m=\u001b[0m\u001b[0mint\u001b[0m\u001b[0;34m(\u001b[0m\u001b[0ma\u001b[0m\u001b[0;34m)\u001b[0m\u001b[0;34m\u001b[0m\u001b[0;34m\u001b[0m\u001b[0m\n\u001b[1;32m      3\u001b[0m \u001b[0mtype\u001b[0m\u001b[0;34m(\u001b[0m\u001b[0mb\u001b[0m\u001b[0;34m)\u001b[0m\u001b[0;34m\u001b[0m\u001b[0;34m\u001b[0m\u001b[0m\n\u001b[1;32m      4\u001b[0m \u001b[0;34m\u001b[0m\u001b[0m\n",
            "\u001b[0;31mNameError\u001b[0m: name 'hi' is not defined"
          ]
        }
      ]
    },
    {
      "cell_type": "code",
      "source": [
        "#store the price (in dollars)of the mobile in variable 'price'\n",
        "price =900\n",
        "#the same result can be achieved by multiplication\n",
        "bill=price*2\n",
        "print('the bill amount is $',bill,sep='')"
      ],
      "metadata": {
        "colab": {
          "base_uri": "https://localhost:8080/"
        },
        "id": "skaBPtUJKsL4",
        "outputId": "2009ea8c-cc3f-4a4b-f3d3-8c05ba585e55"
      },
      "execution_count": null,
      "outputs": [
        {
          "output_type": "stream",
          "name": "stdout",
          "text": [
            "the bill amount is $1800\n"
          ]
        }
      ]
    },
    {
      "cell_type": "code",
      "source": [
        "#store the price(in dollars) of the mobile in variables 'price'\n",
        "price=900\n",
        "#store the discount amount in variables 'discount'\n",
        "discount=15\n",
        "#calculate the price of the mobile\n",
        "price=bill/2\n",
        "print('the price of an apple iphone is $',price,sep='')"
      ],
      "metadata": {
        "colab": {
          "base_uri": "https://localhost:8080/"
        },
        "id": "ZXOL3-lQxxmI",
        "outputId": "63d37d47-7d9a-4dc7-e75f-a727f41a1247"
      },
      "execution_count": null,
      "outputs": [
        {
          "output_type": "stream",
          "name": "stdout",
          "text": [
            "the price of an apple iphone is $900.0\n"
          ]
        }
      ]
    },
    {
      "cell_type": "code",
      "source": [
        "#store the bill(in dollars) of the two mobiles in variable 'bill'\n",
        "bill=1800\n",
        "#calculate the price of one mobile\n",
        "price=bill/2\n",
        "print('the price of an apple iphone is $',price,sep='')"
      ],
      "metadata": {
        "colab": {
          "base_uri": "https://localhost:8080/"
        },
        "id": "PHBTYTs7zDoA",
        "outputId": "8a12ce59-af77-4080-edab-9c4bf8d11448"
      },
      "execution_count": null,
      "outputs": [
        {
          "output_type": "stream",
          "name": "stdout",
          "text": [
            "the price of an apple iphone is $900.0\n"
          ]
        }
      ]
    },
    {
      "cell_type": "code",
      "source": [
        "from os import PRIO_PROCESS\n",
        "from os import PRIO_PROCESS\n",
        "#store the bill(in dollars) of the mobile in variable 'bill'\n",
        "bill=3600\n",
        "#store the price (in dollars) of the mobile in variable 'price'\n",
        "price=900\n",
        "#calculate the number of iphone that the customer buys\n",
        "x=bill // price\n",
        "#double divide forces the answer to be an integer!\n",
        "print('the customer buys',x,'apple iphone')"
      ],
      "metadata": {
        "colab": {
          "base_uri": "https://localhost:8080/"
        },
        "id": "EtBWIuvuz6zc",
        "outputId": "14ea8bc8-a803-4719-f6be-a80418c8827b"
      },
      "execution_count": null,
      "outputs": [
        {
          "output_type": "stream",
          "name": "stdout",
          "text": [
            "the customer buys 4 apple iphone\n"
          ]
        }
      ]
    },
    {
      "cell_type": "code",
      "source": [
        "a=30\n",
        "b=6\n",
        "c=a/b\n",
        "print('a is of type', type(a), 'and c is of type', type(c))"
      ],
      "metadata": {
        "colab": {
          "base_uri": "https://localhost:8080/"
        },
        "id": "aPuDrL8555fz",
        "outputId": "6a8fdb3e-aacb-4946-cc41-f782d0bd6ef7"
      },
      "execution_count": null,
      "outputs": [
        {
          "output_type": "stream",
          "name": "stdout",
          "text": [
            "a is of type <class 'int'> and c is of type <class 'float'>\n"
          ]
        }
      ]
    },
    {
      "cell_type": "code",
      "source": [
        "#store the price (in dollars) of the mobile in variable 'price'\n",
        "price=900\n",
        "#calculate the discount amount\n",
        "discount=price*8.645\n",
        "#calculate the discount price\n",
        "discounted_price=price-discount\n",
        "print('the discounted price of the iphone is',str(discounted_price))"
      ],
      "metadata": {
        "colab": {
          "base_uri": "https://localhost:8080/"
        },
        "id": "4w7-tueB7Mzi",
        "outputId": "d7d8e54b-c455-4243-f3e1-fe64c029a8e1"
      },
      "execution_count": null,
      "outputs": [
        {
          "output_type": "stream",
          "name": "stdout",
          "text": [
            "the discounted price of the iphone is -6880.5\n"
          ]
        }
      ]
    },
    {
      "cell_type": "code",
      "source": [
        "type(discounted_price)\n",
        "print('the datatype of variable price is',type(discount))"
      ],
      "metadata": {
        "colab": {
          "base_uri": "https://localhost:8080/"
        },
        "id": "9mM3GmsQEfPk",
        "outputId": "b5c10dc7-ce72-4ea5-f693-1aba4e790214"
      },
      "execution_count": null,
      "outputs": [
        {
          "output_type": "stream",
          "name": "stdout",
          "text": [
            "the datatype of variable price is <class 'float'>\n"
          ]
        }
      ]
    },
    {
      "cell_type": "code",
      "source": [
        "a=4.5\n",
        "b=int(a)\n",
        "type(b)"
      ],
      "metadata": {
        "colab": {
          "base_uri": "https://localhost:8080/"
        },
        "id": "oTEnhvGHcfbB",
        "outputId": "5978c695-3630-4c78-a751-8826e4866014"
      },
      "execution_count": null,
      "outputs": [
        {
          "output_type": "execute_result",
          "data": {
            "text/plain": [
              "int"
            ]
          },
          "metadata": {},
          "execution_count": 13
        }
      ]
    },
    {
      "cell_type": "code",
      "source": [
        "a='hi'\n",
        "b=int(a)\n",
        "type(b)"
      ],
      "metadata": {
        "colab": {
          "base_uri": "https://localhost:8080/",
          "height": 200
        },
        "id": "vzL65fQzcsbq",
        "outputId": "943d3475-cbbe-438c-a508-2e2377411836"
      },
      "execution_count": null,
      "outputs": [
        {
          "output_type": "error",
          "ename": "ValueError",
          "evalue": "ignored",
          "traceback": [
            "\u001b[0;31m---------------------------------------------------------------------------\u001b[0m",
            "\u001b[0;31mValueError\u001b[0m                                Traceback (most recent call last)",
            "\u001b[0;32m<ipython-input-17-48be69fd088b>\u001b[0m in \u001b[0;36m<module>\u001b[0;34m\u001b[0m\n\u001b[1;32m      1\u001b[0m \u001b[0ma\u001b[0m\u001b[0;34m=\u001b[0m\u001b[0;34m'hi'\u001b[0m\u001b[0;34m\u001b[0m\u001b[0;34m\u001b[0m\u001b[0m\n\u001b[0;32m----> 2\u001b[0;31m \u001b[0mb\u001b[0m\u001b[0;34m=\u001b[0m\u001b[0mint\u001b[0m\u001b[0;34m(\u001b[0m\u001b[0ma\u001b[0m\u001b[0;34m)\u001b[0m\u001b[0;34m\u001b[0m\u001b[0;34m\u001b[0m\u001b[0m\n\u001b[0m\u001b[1;32m      3\u001b[0m \u001b[0mtype\u001b[0m\u001b[0;34m(\u001b[0m\u001b[0mb\u001b[0m\u001b[0;34m)\u001b[0m\u001b[0;34m\u001b[0m\u001b[0;34m\u001b[0m\u001b[0m\n",
            "\u001b[0;31mValueError\u001b[0m: invalid literal for int() with base 10: 'hi'"
          ]
        }
      ]
    }
  ]
}