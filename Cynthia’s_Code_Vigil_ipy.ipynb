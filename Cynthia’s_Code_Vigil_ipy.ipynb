{
  "nbformat": 4,
  "nbformat_minor": 0,
  "metadata": {
    "colab": {
      "provenance": [],
      "authorship_tag": "ABX9TyMDaYUmF7KigiqQ5QNOPXaY",
      "include_colab_link": true
    },
    "kernelspec": {
      "name": "python3",
      "display_name": "Python 3"
    },
    "language_info": {
      "name": "python"
    }
  },
  "cells": [
    {
      "cell_type": "markdown",
      "metadata": {
        "id": "view-in-github",
        "colab_type": "text"
      },
      "source": [
        "<a href=\"https://colab.research.google.com/github/Cy4john/Data-Analysis/blob/master/Cynthia%E2%80%99s_Code_Vigil_ipy.ipynb\" target=\"_parent\"><img src=\"https://colab.research.google.com/assets/colab-badge.svg\" alt=\"Open In Colab\"/></a>"
      ]
    },
    {
      "cell_type": "code",
      "source": [
        "\n"
      ],
      "metadata": {
        "id": "Ha7eWp2qfIg0"
      },
      "execution_count": null,
      "outputs": []
    },
    {
      "cell_type": "code",
      "execution_count": null,
      "metadata": {
        "id": "ixlgdepge6N3"
      },
      "outputs": [],
      "source": [
        "#Program to calculate the number of TextBook in a school\n",
        "# Step 1: Define variables\n",
        "total_textbooks = 0\n",
        "textbooks_per_classroom = 0\n",
        "classrooms_in_school = 0\n",
        "\n",
        "# Step 2: Take input from the user\n",
        "textbooks_per_classroom = int(input(\"Enter the number of textbooks per classroom: \"))\n",
        "classrooms_in_school = int(input(\"Enter the number of classrooms in the school: \"))\n",
        "\n",
        "# Step 3: Calculate the total number of textbooks\n",
        "total_textbooks = textbooks_per_classroom * classrooms_in_school\n",
        "\n",
        "# Step 4: Print the result\n",
        "print(\"The total number of textbooks in the school is:\", total_textbooks)\n"
      ]
    }
  ]
}